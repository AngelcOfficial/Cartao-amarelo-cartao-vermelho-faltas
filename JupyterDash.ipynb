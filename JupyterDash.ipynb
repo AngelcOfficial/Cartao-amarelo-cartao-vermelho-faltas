{
  "nbformat": 4,
  "nbformat_minor": 0,
  "metadata": {
    "colab": {
      "provenance": [],
      "include_colab_link": true
    },
    "kernelspec": {
      "name": "python3",
      "display_name": "Python 3"
    },
    "language_info": {
      "name": "python"
    }
  },
  "cells": [
    {
      "cell_type": "markdown",
      "metadata": {
        "id": "view-in-github",
        "colab_type": "text"
      },
      "source": [
        "<a href=\"https://colab.research.google.com/github/AngelcOfficial/Cartao-amarelo-cartao-vermelho-faltas/blob/main/JupyterDash.ipynb\" target=\"_parent\"><img src=\"https://colab.research.google.com/assets/colab-badge.svg\" alt=\"Open In Colab\"/></a>"
      ]
    },
    {
      "cell_type": "markdown",
      "source": [
        "# Grafico de cartões vermelhos e amarelos "
      ],
      "metadata": {
        "id": "qJgcQ4Akd-sI"
      }
    },
    {
      "cell_type": "code",
      "execution_count": 42,
      "metadata": {
        "colab": {
          "base_uri": "https://localhost:8080/"
        },
        "id": "HeEFpCH6VBum",
        "outputId": "bd57572f-5088-488f-a0cb-1429268775ea"
      },
      "outputs": [
        {
          "output_type": "stream",
          "name": "stdout",
          "text": [
            "Looking in indexes: https://pypi.org/simple, https://us-python.pkg.dev/colab-wheels/public/simple/\n",
            "Requirement already satisfied: dash in /usr/local/lib/python3.8/dist-packages (2.8.1)\n",
            "Requirement already satisfied: Flask>=1.0.4 in /usr/local/lib/python3.8/dist-packages (from dash) (1.1.4)\n",
            "Requirement already satisfied: plotly>=5.0.0 in /usr/local/lib/python3.8/dist-packages (from dash) (5.13.0)\n",
            "Requirement already satisfied: dash-html-components==2.0.0 in /usr/local/lib/python3.8/dist-packages (from dash) (2.0.0)\n",
            "Requirement already satisfied: dash-core-components==2.0.0 in /usr/local/lib/python3.8/dist-packages (from dash) (2.0.0)\n",
            "Requirement already satisfied: dash-table==5.0.0 in /usr/local/lib/python3.8/dist-packages (from dash) (5.0.0)\n",
            "Requirement already satisfied: Jinja2<3.0,>=2.10.1 in /usr/local/lib/python3.8/dist-packages (from Flask>=1.0.4->dash) (2.11.3)\n",
            "Requirement already satisfied: Werkzeug<2.0,>=0.15 in /usr/local/lib/python3.8/dist-packages (from Flask>=1.0.4->dash) (1.0.1)\n",
            "Requirement already satisfied: click<8.0,>=5.1 in /usr/local/lib/python3.8/dist-packages (from Flask>=1.0.4->dash) (7.1.2)\n",
            "Requirement already satisfied: itsdangerous<2.0,>=0.24 in /usr/local/lib/python3.8/dist-packages (from Flask>=1.0.4->dash) (1.1.0)\n",
            "Requirement already satisfied: tenacity>=6.2.0 in /usr/local/lib/python3.8/dist-packages (from plotly>=5.0.0->dash) (8.1.0)\n",
            "Requirement already satisfied: MarkupSafe>=0.23 in /usr/local/lib/python3.8/dist-packages (from Jinja2<3.0,>=2.10.1->Flask>=1.0.4->dash) (2.0.1)\n",
            "Looking in indexes: https://pypi.org/simple, https://us-python.pkg.dev/colab-wheels/public/simple/\n",
            "Requirement already satisfied: jupyter-dash in /usr/local/lib/python3.8/dist-packages (0.4.2)\n",
            "Requirement already satisfied: ansi2html in /usr/local/lib/python3.8/dist-packages (from jupyter-dash) (1.8.0)\n",
            "Requirement already satisfied: retrying in /usr/local/lib/python3.8/dist-packages (from jupyter-dash) (1.3.4)\n",
            "Requirement already satisfied: ipython in /usr/local/lib/python3.8/dist-packages (from jupyter-dash) (7.9.0)\n",
            "Requirement already satisfied: dash in /usr/local/lib/python3.8/dist-packages (from jupyter-dash) (2.8.1)\n",
            "Requirement already satisfied: requests in /usr/local/lib/python3.8/dist-packages (from jupyter-dash) (2.25.1)\n",
            "Requirement already satisfied: ipykernel in /usr/local/lib/python3.8/dist-packages (from jupyter-dash) (5.3.4)\n",
            "Requirement already satisfied: flask in /usr/local/lib/python3.8/dist-packages (from jupyter-dash) (1.1.4)\n",
            "Requirement already satisfied: nest-asyncio in /usr/local/lib/python3.8/dist-packages (from jupyter-dash) (1.5.6)\n",
            "Requirement already satisfied: dash-core-components==2.0.0 in /usr/local/lib/python3.8/dist-packages (from dash->jupyter-dash) (2.0.0)\n",
            "Requirement already satisfied: dash-html-components==2.0.0 in /usr/local/lib/python3.8/dist-packages (from dash->jupyter-dash) (2.0.0)\n",
            "Requirement already satisfied: dash-table==5.0.0 in /usr/local/lib/python3.8/dist-packages (from dash->jupyter-dash) (5.0.0)\n",
            "Requirement already satisfied: plotly>=5.0.0 in /usr/local/lib/python3.8/dist-packages (from dash->jupyter-dash) (5.13.0)\n",
            "Requirement already satisfied: itsdangerous<2.0,>=0.24 in /usr/local/lib/python3.8/dist-packages (from flask->jupyter-dash) (1.1.0)\n",
            "Requirement already satisfied: Jinja2<3.0,>=2.10.1 in /usr/local/lib/python3.8/dist-packages (from flask->jupyter-dash) (2.11.3)\n",
            "Requirement already satisfied: Werkzeug<2.0,>=0.15 in /usr/local/lib/python3.8/dist-packages (from flask->jupyter-dash) (1.0.1)\n",
            "Requirement already satisfied: click<8.0,>=5.1 in /usr/local/lib/python3.8/dist-packages (from flask->jupyter-dash) (7.1.2)\n",
            "Requirement already satisfied: tornado>=4.2 in /usr/local/lib/python3.8/dist-packages (from ipykernel->jupyter-dash) (6.0.4)\n",
            "Requirement already satisfied: jupyter-client in /usr/local/lib/python3.8/dist-packages (from ipykernel->jupyter-dash) (6.1.12)\n",
            "Requirement already satisfied: traitlets>=4.1.0 in /usr/local/lib/python3.8/dist-packages (from ipykernel->jupyter-dash) (5.7.1)\n",
            "Requirement already satisfied: setuptools>=18.5 in /usr/local/lib/python3.8/dist-packages (from ipython->jupyter-dash) (57.4.0)\n",
            "Requirement already satisfied: pickleshare in /usr/local/lib/python3.8/dist-packages (from ipython->jupyter-dash) (0.7.5)\n",
            "Requirement already satisfied: jedi>=0.10 in /usr/local/lib/python3.8/dist-packages (from ipython->jupyter-dash) (0.18.2)\n",
            "Requirement already satisfied: decorator in /usr/local/lib/python3.8/dist-packages (from ipython->jupyter-dash) (4.4.2)\n",
            "Requirement already satisfied: prompt-toolkit<2.1.0,>=2.0.0 in /usr/local/lib/python3.8/dist-packages (from ipython->jupyter-dash) (2.0.10)\n",
            "Requirement already satisfied: pexpect in /usr/local/lib/python3.8/dist-packages (from ipython->jupyter-dash) (4.8.0)\n",
            "Requirement already satisfied: backcall in /usr/local/lib/python3.8/dist-packages (from ipython->jupyter-dash) (0.2.0)\n",
            "Requirement already satisfied: pygments in /usr/local/lib/python3.8/dist-packages (from ipython->jupyter-dash) (2.6.1)\n",
            "Requirement already satisfied: idna<3,>=2.5 in /usr/local/lib/python3.8/dist-packages (from requests->jupyter-dash) (2.10)\n",
            "Requirement already satisfied: certifi>=2017.4.17 in /usr/local/lib/python3.8/dist-packages (from requests->jupyter-dash) (2022.12.7)\n",
            "Requirement already satisfied: chardet<5,>=3.0.2 in /usr/local/lib/python3.8/dist-packages (from requests->jupyter-dash) (4.0.0)\n",
            "Requirement already satisfied: urllib3<1.27,>=1.21.1 in /usr/local/lib/python3.8/dist-packages (from requests->jupyter-dash) (1.24.3)\n",
            "Requirement already satisfied: six>=1.7.0 in /usr/local/lib/python3.8/dist-packages (from retrying->jupyter-dash) (1.15.0)\n",
            "Requirement already satisfied: parso<0.9.0,>=0.8.0 in /usr/local/lib/python3.8/dist-packages (from jedi>=0.10->ipython->jupyter-dash) (0.8.3)\n",
            "Requirement already satisfied: MarkupSafe>=0.23 in /usr/local/lib/python3.8/dist-packages (from Jinja2<3.0,>=2.10.1->flask->jupyter-dash) (2.0.1)\n",
            "Requirement already satisfied: tenacity>=6.2.0 in /usr/local/lib/python3.8/dist-packages (from plotly>=5.0.0->dash->jupyter-dash) (8.1.0)\n",
            "Requirement already satisfied: wcwidth in /usr/local/lib/python3.8/dist-packages (from prompt-toolkit<2.1.0,>=2.0.0->ipython->jupyter-dash) (0.2.6)\n",
            "Requirement already satisfied: pyzmq>=13 in /usr/local/lib/python3.8/dist-packages (from jupyter-client->ipykernel->jupyter-dash) (23.2.1)\n",
            "Requirement already satisfied: jupyter-core>=4.6.0 in /usr/local/lib/python3.8/dist-packages (from jupyter-client->ipykernel->jupyter-dash) (5.2.0)\n",
            "Requirement already satisfied: python-dateutil>=2.1 in /usr/local/lib/python3.8/dist-packages (from jupyter-client->ipykernel->jupyter-dash) (2.8.2)\n",
            "Requirement already satisfied: ptyprocess>=0.5 in /usr/local/lib/python3.8/dist-packages (from pexpect->ipython->jupyter-dash) (0.7.0)\n",
            "Requirement already satisfied: platformdirs>=2.5 in /usr/local/lib/python3.8/dist-packages (from jupyter-core>=4.6.0->jupyter-client->ipykernel->jupyter-dash) (2.6.2)\n",
            "Looking in indexes: https://pypi.org/simple, https://us-python.pkg.dev/colab-wheels/public/simple/\n",
            "Requirement already satisfied: plotly in /usr/local/lib/python3.8/dist-packages (5.13.0)\n",
            "Requirement already satisfied: tenacity>=6.2.0 in /usr/local/lib/python3.8/dist-packages (from plotly) (8.1.0)\n"
          ]
        }
      ],
      "source": [
        "!pip install dash\n",
        "!pip install jupyter-dash\n",
        "!pip install -U plotly"
      ]
    },
    {
      "cell_type": "code",
      "source": [
        "import numpy as np\n",
        "from dash import Dash, html, dcc\n",
        "import plotly.express as px\n",
        "import pandas as pd \n",
        "import plotly.express as px\n",
        "from jupyter_dash import JupyterDash\n",
        "import dash_core_components as dcc\n",
        "import dash_html_components as html\n",
        "from dash.dependencies import Input, Output"
      ],
      "metadata": {
        "id": "yXjIzYJBVOLq"
      },
      "execution_count": 43,
      "outputs": []
    },
    {
      "cell_type": "code",
      "source": [
        "df = pd.read_csv(\"https://github.com/Marycota/projeto_apc/raw/main/Fifa_world_cup_matches.csv\") #leitura do banco de dados em csv\n",
        "Data  = df.values.tolist()  #variavel para ler o grafico"
      ],
      "metadata": {
        "id": "FpEbsHYhd8KM"
      },
      "execution_count": 44,
      "outputs": []
    },
    {
      "cell_type": "code",
      "source": [
        "def times() -> list:    #função para separar os times em uma lista em ordem alfabetica\n",
        "  times = []            #lista para colocar os times \n",
        "\n",
        "  for i in Data:             #for para juntar os times por colunas \n",
        "    times.append(i[0])       #adicionar lista dos times 1\n",
        "    times.append(i[1])       #adicionar lista dos times 2\n",
        "  lista_times = set(times)   #lista para colocar os times sem repetições, total são 32\n",
        "  lista_total = sorted(lista_times) #lista em ordem alfabetica #a função sorted ordena numeros do menor para o maior e as letras em ordem alfabetica(a-z)\n",
        "  return lista_total \n",
        "\n",
        "def posicao_time(time): #Função para separar todas as posições que o time aparece nas duas colunas\n",
        "  posicao_p1_time = []  #lista para guarda a posição doa coluna 0\n",
        "  posicao_p2_time = []  #lista para guarda a posição doa coluna 1\n",
        "  time1 = [] #lista de times da coluna 0\n",
        "  time2 = [] #lista de times da coluna 0\n",
        "\n",
        "  for i in Data:\n",
        "    time1.append(i[0]) #lista de times coluna 0\n",
        "    time2.append(i[1]) #lista de times coluna 1 \n",
        "    \n",
        "  for i in range(len(time1)):  #varrer as posições em que o time se encontra em cada lista\n",
        "    if time1[i] == time:       #adicionar a posição 1 do time em uma lista \n",
        "      posicao_p1_time.append(i)\n",
        "    if time2[i] == time:       #adicionar a posição 2 do time em uma lista \n",
        "      posicao_p2_time.append(i)\n",
        "\n",
        "  posicoes_time = sorted(posicao_p1_time + posicao_p2_time) #lista com as posições do time nas duas colunas em ordem crescente\n",
        "  return posicoes_time\n",
        "\n",
        "def partidas(time):   #função para juntar os times e fazer as partidas (time1 x time2)\n",
        "  times1 = []         #variavel para receber os times1 por partidas\n",
        "  times2 = []         #variavel para receber os times2 por partidas\n",
        "  partidas = []       #variavel para receber as partidas (time1 x time2)\n",
        "  posicao_partidas = posicao_time(time)\n",
        "  posicao_cada_partida = []\n",
        "\n",
        "  for i in Data:         #for para juntar os times por colunas \n",
        "    times1.append(str(i[0]))  #lista dos times 1\n",
        "    times2.append(str(i[1]))  #lista dos times 2\n",
        "\n",
        "  for n1, n2 in zip(times1, times2):           #for para juntar as listas de times1 e times2\n",
        "    partidas.append((str(n1) +' x '+str(n2)))  #adicionando os times e separando por ' X '\n",
        "\n",
        "  for i in partidas:              #for para varrer a lista de partidas\n",
        "    for  i in posicao_partidas:   #for para varrer a lista de posições \n",
        "      posicao_cada_partida.append(partidas[i]) #adicionar as posições em que o time aparece nas partidas em uma lista das suas partidas\n",
        "    break                         #parar o for quando a lista de posições acabar\n",
        "  return posicao_cada_partida                  #retorna as partidas do time\n",
        "\n",
        "def cartao_amarelo(time):    #função para juntar e somar os cartões amarelos dos times por partida (time1 x time2)\n",
        "  cartao_amarelo1 = []       #Variavel de cartões amarelos time 1\n",
        "  cartao_amarelo2 = []       #Variavel de cartões amarelos time 2\n",
        "  soma_ca = []               #variavel para a soma \n",
        "\n",
        "  posicao_partidas = posicao_time(time)\n",
        "  posicao_ca = []\n",
        "\n",
        "  for i in Data:\n",
        "    cartao_amarelo1.append(int(i[56]))  #lista de cartões amarelos time 1\n",
        "    cartao_amarelo2.append(int(i[57]))  #lista de cartões amarelos time 2\n",
        "  \n",
        "  for x,y in enumerate(cartao_amarelo1):      #Percorre o Array a enumerando suas posições\n",
        "     soma_ca.append(y+cartao_amarelo2[x])     #somando elemento do array a com o elemento de mesma posição no array cartao_amarelo2\n",
        "\n",
        "  for i in soma_ca:                 #for para varrer a lista de soma de soma dos cartões amarelos\n",
        "    for  i in posicao_partidas:     #for para varrer a lista de posições das partidas do time\n",
        "      posicao_ca.append(soma_ca[i]) #adicionar os valores dos cartões amarelos de cada partida do time\n",
        "    break\n",
        "  return posicao_ca\n",
        "\n",
        "def cartao_vermelho(time):    #função para juntar e somar os cartões vermelhos dos times por partida (time1 x time2)\n",
        "  cartao_vermelho1 = []       #Variavel de cartões vermelhos time 1\n",
        "  cartao_vermelho2 = []       #Variavel de cartões vermelhos time 2\n",
        "  soma_cv = []                #variavel para a soma\n",
        "  \n",
        "  posicao_partidas = posicao_time(time)\n",
        "  posicao_cv = []\n",
        "\n",
        "  for i in Data:\n",
        "    cartao_vermelho1.append(int(i[58]))  #lista de cartões vermelhos time 1\n",
        "    cartao_vermelho2.append(int(i[59]))  #lista de cartões vermelhos time 2\n",
        "\n",
        "  for x,y in enumerate(cartao_vermelho1):      #Percorre o Array a enumerando suas posições\n",
        "     soma_cv.append(y+cartao_vermelho2[x])     #somando elemento do array a com o elemento de mesma posição no array cartao_vermelho2 \n",
        "\n",
        "  for i in soma_cv:                 #for para varrer a lista de soma de soma dos cartões vermelhos\n",
        "    for  i in posicao_partidas:     #for para varrer a lista de posições das partidas do time\n",
        "      posicao_cv.append(soma_cv[i]) #adicionar os valores dos cartões vermelhos de cada partida do time\n",
        "    break \n",
        "  return posicao_cv\n",
        "\n",
        "opcoes_lista_times = times() #variavel para dar a lista de times no botão "
      ],
      "metadata": {
        "id": "sYieK2WmVOVS"
      },
      "execution_count": 45,
      "outputs": []
    },
    {
      "cell_type": "code",
      "source": [
        "#dash:\n",
        "app = JupyterDash(__name__)\n",
        "\n",
        "fig = px.bar()  #gráfico\n",
        "\n",
        "#configuração da pagina \n",
        "app.layout = html.Div(children=[\n",
        "    html.H1(children='Cartões Vermelhos e Amarelos'),\n",
        "    \n",
        "    dcc.Dropdown(opcoes_lista_times, value='time', id='times', searchable = True),  #barra de seleção, searchable: usuário pode digitar time\n",
        "    \n",
        "    dcc.Graph(            #configurações da interação\n",
        "        id='Cartões',     #tópico do gráfico\n",
        "        figure=fig),])    #facilita chamar o gráfico pro Dash\n",
        "\n",
        "@app.callback(    \n",
        "    Output('Cartões','figure'),\n",
        "    Input('times', 'value'))\n",
        "\n",
        "def update_output(time):     #função pra fazer a interação funcionar\n",
        "    Partidas = partidas(time)   #variavel para substituir a função\n",
        "    cv = cartao_vermelho(time)  #variavel para substituir a função\n",
        "    ca = cartao_amarelo(time)   #variavel para substituir a função\n",
        "\n",
        "    if time == []:           #se o usuário não escolher nada o gráfico continua ali\n",
        "        return px.bar()\n",
        "    if time == 'time':        #se o usuário escolher ou pesquisar um time:\n",
        "        fig = px.bar(labels={'x': 'Partidas', 'y': 'cartões'},    #embaixo vai aparecer as partidas\n",
        "                     x= {Partidas}, y={ca,cv},    #na esquerda vai aparecer a quantidade de cartões nessas partidas\n",
        "                     title=('Cartões Vermelhos e Amarelos por partidas de '+{time}),    #em cima vai estar o título e o time selecionado\n",
        "                     barmode=\"group\"),    #no topo das colunas amarelas vai estar(quando tiver) uma parte vermelha com os cartões vermelhos\n",
        "\n",
        "if __name__ == '__main__':\n",
        "    app.run_server(debug=True)"
      ],
      "metadata": {
        "colab": {
          "base_uri": "https://localhost:8080/",
          "height": 52
        },
        "id": "jZTqwOXRVOdF",
        "outputId": "16054eab-0e4d-4084-d2dc-5dad6083e478"
      },
      "execution_count": 46,
      "outputs": [
        {
          "output_type": "stream",
          "name": "stdout",
          "text": [
            "Dash app running on:\n"
          ]
        },
        {
          "output_type": "display_data",
          "data": {
            "text/plain": [
              "<IPython.core.display.Javascript object>"
            ],
            "application/javascript": [
              "(async (port, path, text, element) => {\n",
              "    if (!google.colab.kernel.accessAllowed) {\n",
              "      return;\n",
              "    }\n",
              "    element.appendChild(document.createTextNode(''));\n",
              "    const url = await google.colab.kernel.proxyPort(port);\n",
              "    const anchor = document.createElement('a');\n",
              "    anchor.href = new URL(path, url).toString();\n",
              "    anchor.target = '_blank';\n",
              "    anchor.setAttribute('data-href', url + path);\n",
              "    anchor.textContent = text;\n",
              "    element.appendChild(anchor);\n",
              "  })(8050, \"/\", \"http://127.0.0.1:8050/\", window.element)"
            ]
          },
          "metadata": {}
        }
      ]
    },
    {
      "cell_type": "code",
      "source": [
        "from google.colab import drive\n",
        "drive.mount('/content/drive')"
      ],
      "metadata": {
        "colab": {
          "base_uri": "https://localhost:8080/",
          "height": 328
        },
        "id": "yv6agbqZgKhh",
        "outputId": "41037e8c-8231-4a97-bfc2-5cabde6f08d1"
      },
      "execution_count": 49,
      "outputs": [
        {
          "output_type": "error",
          "ename": "MessageError",
          "evalue": "ignored",
          "traceback": [
            "\u001b[0;31m---------------------------------------------------------------------------\u001b[0m",
            "\u001b[0;31mMessageError\u001b[0m                              Traceback (most recent call last)",
            "\u001b[0;32m<ipython-input-49-d5df0069828e>\u001b[0m in \u001b[0;36m<module>\u001b[0;34m\u001b[0m\n\u001b[1;32m      1\u001b[0m \u001b[0;32mfrom\u001b[0m \u001b[0mgoogle\u001b[0m\u001b[0;34m.\u001b[0m\u001b[0mcolab\u001b[0m \u001b[0;32mimport\u001b[0m \u001b[0mdrive\u001b[0m\u001b[0;34m\u001b[0m\u001b[0;34m\u001b[0m\u001b[0m\n\u001b[0;32m----> 2\u001b[0;31m \u001b[0mdrive\u001b[0m\u001b[0;34m.\u001b[0m\u001b[0mmount\u001b[0m\u001b[0;34m(\u001b[0m\u001b[0;34m'/content/drive'\u001b[0m\u001b[0;34m)\u001b[0m\u001b[0;34m\u001b[0m\u001b[0;34m\u001b[0m\u001b[0m\n\u001b[0m",
            "\u001b[0;32m/usr/local/lib/python3.8/dist-packages/google/colab/drive.py\u001b[0m in \u001b[0;36mmount\u001b[0;34m(mountpoint, force_remount, timeout_ms, readonly)\u001b[0m\n\u001b[1;32m     99\u001b[0m \u001b[0;32mdef\u001b[0m \u001b[0mmount\u001b[0m\u001b[0;34m(\u001b[0m\u001b[0mmountpoint\u001b[0m\u001b[0;34m,\u001b[0m \u001b[0mforce_remount\u001b[0m\u001b[0;34m=\u001b[0m\u001b[0;32mFalse\u001b[0m\u001b[0;34m,\u001b[0m \u001b[0mtimeout_ms\u001b[0m\u001b[0;34m=\u001b[0m\u001b[0;36m120000\u001b[0m\u001b[0;34m,\u001b[0m \u001b[0mreadonly\u001b[0m\u001b[0;34m=\u001b[0m\u001b[0;32mFalse\u001b[0m\u001b[0;34m)\u001b[0m\u001b[0;34m:\u001b[0m\u001b[0;34m\u001b[0m\u001b[0;34m\u001b[0m\u001b[0m\n\u001b[1;32m    100\u001b[0m   \u001b[0;34m\"\"\"Mount your Google Drive at the specified mountpoint path.\"\"\"\u001b[0m\u001b[0;34m\u001b[0m\u001b[0;34m\u001b[0m\u001b[0m\n\u001b[0;32m--> 101\u001b[0;31m   return _mount(\n\u001b[0m\u001b[1;32m    102\u001b[0m       \u001b[0mmountpoint\u001b[0m\u001b[0;34m,\u001b[0m\u001b[0;34m\u001b[0m\u001b[0;34m\u001b[0m\u001b[0m\n\u001b[1;32m    103\u001b[0m       \u001b[0mforce_remount\u001b[0m\u001b[0;34m=\u001b[0m\u001b[0mforce_remount\u001b[0m\u001b[0;34m,\u001b[0m\u001b[0;34m\u001b[0m\u001b[0;34m\u001b[0m\u001b[0m\n",
            "\u001b[0;32m/usr/local/lib/python3.8/dist-packages/google/colab/drive.py\u001b[0m in \u001b[0;36m_mount\u001b[0;34m(mountpoint, force_remount, timeout_ms, ephemeral, readonly)\u001b[0m\n\u001b[1;32m    122\u001b[0m       'TBE_EPHEM_CREDS_ADDR'] if ephemeral else _os.environ['TBE_CREDS_ADDR']\n\u001b[1;32m    123\u001b[0m   \u001b[0;32mif\u001b[0m \u001b[0mephemeral\u001b[0m\u001b[0;34m:\u001b[0m\u001b[0;34m\u001b[0m\u001b[0;34m\u001b[0m\u001b[0m\n\u001b[0;32m--> 124\u001b[0;31m     _message.blocking_request(\n\u001b[0m\u001b[1;32m    125\u001b[0m         'request_auth', request={'authType': 'dfs_ephemeral'}, timeout_sec=None)\n\u001b[1;32m    126\u001b[0m \u001b[0;34m\u001b[0m\u001b[0m\n",
            "\u001b[0;32m/usr/local/lib/python3.8/dist-packages/google/colab/_message.py\u001b[0m in \u001b[0;36mblocking_request\u001b[0;34m(request_type, request, timeout_sec, parent)\u001b[0m\n\u001b[1;32m    169\u001b[0m   request_id = send_request(\n\u001b[1;32m    170\u001b[0m       request_type, request, parent=parent, expect_reply=True)\n\u001b[0;32m--> 171\u001b[0;31m   \u001b[0;32mreturn\u001b[0m \u001b[0mread_reply_from_input\u001b[0m\u001b[0;34m(\u001b[0m\u001b[0mrequest_id\u001b[0m\u001b[0;34m,\u001b[0m \u001b[0mtimeout_sec\u001b[0m\u001b[0;34m)\u001b[0m\u001b[0;34m\u001b[0m\u001b[0;34m\u001b[0m\u001b[0m\n\u001b[0m",
            "\u001b[0;32m/usr/local/lib/python3.8/dist-packages/google/colab/_message.py\u001b[0m in \u001b[0;36mread_reply_from_input\u001b[0;34m(message_id, timeout_sec)\u001b[0m\n\u001b[1;32m    100\u001b[0m         reply.get('colab_msg_id') == message_id):\n\u001b[1;32m    101\u001b[0m       \u001b[0;32mif\u001b[0m \u001b[0;34m'error'\u001b[0m \u001b[0;32min\u001b[0m \u001b[0mreply\u001b[0m\u001b[0;34m:\u001b[0m\u001b[0;34m\u001b[0m\u001b[0;34m\u001b[0m\u001b[0m\n\u001b[0;32m--> 102\u001b[0;31m         \u001b[0;32mraise\u001b[0m \u001b[0mMessageError\u001b[0m\u001b[0;34m(\u001b[0m\u001b[0mreply\u001b[0m\u001b[0;34m[\u001b[0m\u001b[0;34m'error'\u001b[0m\u001b[0;34m]\u001b[0m\u001b[0;34m)\u001b[0m\u001b[0;34m\u001b[0m\u001b[0;34m\u001b[0m\u001b[0m\n\u001b[0m\u001b[1;32m    103\u001b[0m       \u001b[0;32mreturn\u001b[0m \u001b[0mreply\u001b[0m\u001b[0;34m.\u001b[0m\u001b[0mget\u001b[0m\u001b[0;34m(\u001b[0m\u001b[0;34m'data'\u001b[0m\u001b[0;34m,\u001b[0m \u001b[0;32mNone\u001b[0m\u001b[0;34m)\u001b[0m\u001b[0;34m\u001b[0m\u001b[0;34m\u001b[0m\u001b[0m\n\u001b[1;32m    104\u001b[0m \u001b[0;34m\u001b[0m\u001b[0m\n",
            "\u001b[0;31mMessageError\u001b[0m: Error: credential propagation was unsuccessful"
          ]
        }
      ]
    },
    {
      "cell_type": "markdown",
      "source": [
        "# Resultado de cada função individualmente "
      ],
      "metadata": {
        "id": "q8uR9HJGZgZa"
      }
    },
    {
      "cell_type": "code",
      "source": [
        "def times(): #função para separar os times em uma lista\n",
        "  times = [] #lista para colocar os times \n",
        "\n",
        "  for i in Data:        #for para juntar os times por colunas \n",
        "    times.append(i[0])  #adicionar lista dos times 1\n",
        "    times.append(i[1])  #adicionar lista dos times 2\n",
        "\n",
        "  lista_times = set(times) #lista para colocar os times sem repetições, total são 32\n",
        "  print(lista_times)\n",
        "  print(len(lista_times))\n",
        "  print(sorted(lista_times))\n",
        "\n",
        "  return sorted(lista_times) #retorna a lista em ordem alfabetica \n",
        "  \n",
        "times()\n",
        "print(times)"
      ],
      "metadata": {
        "colab": {
          "base_uri": "https://localhost:8080/"
        },
        "id": "J-F-U_nMZMta",
        "outputId": "45b3dd00-fab0-40c8-9be5-8ecf0f7ae0d3"
      },
      "execution_count": 9,
      "outputs": [
        {
          "output_type": "stream",
          "name": "stdout",
          "text": [
            "{'JAPAN', 'GHANA', 'DENMARK', 'ARGENTINA', 'KOREA REPUBLIC', 'SAUDI ARABIA', 'GERMANY', 'CROATIA', 'CAMEROON', 'POLAND', 'SENEGAL', 'SWITZERLAND', 'UNITED STATES', 'BRAZIL', 'SERBIA', 'SPAIN', 'MOROCCO', 'QATAR', 'IRAN', 'ENGLAND', 'MEXICO', 'BELGIUM', 'TUNISIA', 'WALES', 'COSTA RICA', 'AUSTRALIA', 'NETHERLANDS', 'PORTUGAL', 'URUGUAY', 'CANADA', 'FRANCE', 'ECUADOR'}\n",
            "32\n",
            "['ARGENTINA', 'AUSTRALIA', 'BELGIUM', 'BRAZIL', 'CAMEROON', 'CANADA', 'COSTA RICA', 'CROATIA', 'DENMARK', 'ECUADOR', 'ENGLAND', 'FRANCE', 'GERMANY', 'GHANA', 'IRAN', 'JAPAN', 'KOREA REPUBLIC', 'MEXICO', 'MOROCCO', 'NETHERLANDS', 'POLAND', 'PORTUGAL', 'QATAR', 'SAUDI ARABIA', 'SENEGAL', 'SERBIA', 'SPAIN', 'SWITZERLAND', 'TUNISIA', 'UNITED STATES', 'URUGUAY', 'WALES']\n",
            "<function times at 0x7f7bae6075e0>\n"
          ]
        }
      ]
    },
    {
      "cell_type": "code",
      "source": [
        "def posicao_time(time):     #Função para separar todas as posições que o time aparece nas duas colunas\n",
        "  posicao_p1_time = []      #lista para guarda a posição doa coluna 0\n",
        "  posicao_p2_time = []      #lista para guarda a posição doa coluna 1\n",
        "\n",
        "  time1 = [] #lista de times da coluna 0\n",
        "  time2 = [] #lista de times da coluna 1\n",
        "\n",
        "  for i in Data:\n",
        "    time1.append(i[0]) #lista de times coluna 0\n",
        "    time2.append(i[1]) #lista de times coluna 1 \n",
        "  \n",
        "  for i in range(len(time1)):  #varrer as posições em que o time se encontra em cada lista\n",
        "    if time1[i] == time:       #adicionar a posição 1 do time em uma lista \n",
        "      posicao_p1_time.append(i)\n",
        "    if time2[i] == time:       #adicionar a posição 2 do time em uma lista \n",
        "      posicao_p2_time.append(i)\n",
        "\n",
        "  posicoes_time = sorted(posicao_p1_time + posicao_p2_time) #lista com as posições do time nas duas colunas em ordem crescente\n",
        "  \n",
        "  print(time1)\n",
        "  print(time2)\n",
        "  print(posicoes_time)\n",
        "  return posicoes_time\n",
        "\n",
        "posicao_time('BRAZIL')\n",
        "print(posicao_time)"
      ],
      "metadata": {
        "colab": {
          "base_uri": "https://localhost:8080/"
        },
        "id": "t3jdRHj6ZQNa",
        "outputId": "69e95097-d7ff-4459-9b37-42b461ce57f8"
      },
      "execution_count": 10,
      "outputs": [
        {
          "output_type": "stream",
          "name": "stdout",
          "text": [
            "['QATAR', 'ENGLAND', 'SENEGAL', 'UNITED STATES', 'ARGENTINA', 'DENMARK', 'MEXICO', 'FRANCE', 'MOROCCO', 'GERMANY', 'SPAIN', 'BELGIUM', 'SWITZERLAND', 'URUGUAY', 'PORTUGAL', 'BRAZIL', 'WALES', 'QATAR', 'NETHERLANDS', 'ENGLAND', 'TUNISIA', 'POLAND', 'FRANCE', 'ARGENTINA', 'JAPAN', 'BELGIUM', 'CROATIA', 'SPAIN', 'CAMEROON', 'KOREA REPUBLIC', 'BRAZIL', 'PORTUGAL', 'NETHERLANDS', 'ECUADOR', 'WALES', 'IRAN', 'AUSTRALIA', 'TUNISIA', 'POLAND', 'SAUDI ARABIA', 'CROATIA', 'CANADA', 'JAPAN', 'COSTA RICA', 'GHANA', 'KOREA REPUBLIC', 'SERBIA', 'CAMEROON', 'NETHERLANDS', 'ARGENTINA', 'FRANCE', 'ENGLAND', 'JAPAN', 'BRAZIL', 'MOROCCO', 'PORTUGAL', 'CROATIA', 'NETHERLANDS', 'MOROCCO', 'ENGLAND', 'ARGENTINA', 'FRANCE', 'CROATIA', 'ARGENTINA']\n",
            "['ECUADOR', 'IRAN', 'NETHERLANDS', 'WALES', 'SAUDI ARABIA', 'TUNISIA', 'POLAND', 'AUSTRALIA', 'CROATIA', 'JAPAN', 'COSTA RICA', 'CANADA', 'CAMEROON', 'KOREA REPUBLIC', 'GHANA', 'SERBIA', 'IRAN', 'SENEGAL', 'ECUADOR', 'UNITED STATES', 'AUSTRALIA', 'SAUDI ARABIA', 'DENMARK', 'MEXICO', 'COSTA RICA', 'MOROCCO', 'CANADA', 'GERMANY', 'SERBIA', 'GHANA', 'SWITZERLAND', 'URUGUAY', 'QATAR', 'SENEGAL', 'ENGLAND', 'UNITED STATES', 'DENMARK', 'FRANCE', 'ARGENTINA', 'MEXICO', 'BELGIUM', 'MOROCCO', 'SPAIN', 'GERMANY', 'URUGUAY', 'PORTUGAL', 'SWITZERLAND', 'BRAZIL', 'UNITED STATES', 'AUSTRALIA', 'POLAND', 'SENEGAL', 'CROATIA', 'KOREA REPUBLIC', 'SPAIN', 'SWITZERLAND', 'BRAZIL', 'ARGENTINA', 'PORTUGAL', 'FRANCE', 'CROATIA', 'MOROCCO', 'MOROCCO', 'FRANCE']\n",
            "[15, 30, 47, 53, 56]\n",
            "<function posicao_time at 0x7f7bae6290d0>\n"
          ]
        }
      ]
    },
    {
      "cell_type": "code",
      "source": [
        "def partidas(time):   #variavel para juntar os times e fazer as partidas (time1 x time2)\n",
        "  times1 = []         #variavel para receber os times1 por partidas\n",
        "  times2 = []         #variavel para receber os times2 por partidas\n",
        "  partidas = []       #variavel para receber as partidas (time1 x time2)\n",
        "\n",
        "  posicao_partidas = posicao_time(time)\n",
        "  posicao = []\n",
        "\n",
        "  for i in Data:         #for para juntar os times por colunas \n",
        "    times1.append(i[0])  #lista dos times 0\n",
        "    times2.append(i[1])  #lista dos times 1\n",
        "\n",
        "  for n1, n2 in zip(times1, times2):           #for para juntar as listas de times1 e times2\n",
        "    partidas.append((str(n1) +' x '+str(n2)))  #adicionando os times e separando por ' X '\n",
        "\n",
        "  for i in partidas:              #for para varrer a lista de partidas\n",
        "    for  i in posicao_partidas:   #for para varrer a lista de posições do time\n",
        "      posicao.append(partidas[i]) #adicionar as posições em que o time aparece nas partidas em uma lista das suas partidas\n",
        "    break\n",
        "  print(partidas) \n",
        "  print(posicao)\n",
        "  print(len(posicao))\n",
        "  return posicao\n",
        "\n",
        "partidas('BRAZIL')\n",
        "print(partidas)"
      ],
      "metadata": {
        "colab": {
          "base_uri": "https://localhost:8080/"
        },
        "id": "Rp46fHwDZRNa",
        "outputId": "4b726b32-e705-42d9-f813-171e9ca438ea"
      },
      "execution_count": 11,
      "outputs": [
        {
          "output_type": "stream",
          "name": "stdout",
          "text": [
            "['QATAR', 'ENGLAND', 'SENEGAL', 'UNITED STATES', 'ARGENTINA', 'DENMARK', 'MEXICO', 'FRANCE', 'MOROCCO', 'GERMANY', 'SPAIN', 'BELGIUM', 'SWITZERLAND', 'URUGUAY', 'PORTUGAL', 'BRAZIL', 'WALES', 'QATAR', 'NETHERLANDS', 'ENGLAND', 'TUNISIA', 'POLAND', 'FRANCE', 'ARGENTINA', 'JAPAN', 'BELGIUM', 'CROATIA', 'SPAIN', 'CAMEROON', 'KOREA REPUBLIC', 'BRAZIL', 'PORTUGAL', 'NETHERLANDS', 'ECUADOR', 'WALES', 'IRAN', 'AUSTRALIA', 'TUNISIA', 'POLAND', 'SAUDI ARABIA', 'CROATIA', 'CANADA', 'JAPAN', 'COSTA RICA', 'GHANA', 'KOREA REPUBLIC', 'SERBIA', 'CAMEROON', 'NETHERLANDS', 'ARGENTINA', 'FRANCE', 'ENGLAND', 'JAPAN', 'BRAZIL', 'MOROCCO', 'PORTUGAL', 'CROATIA', 'NETHERLANDS', 'MOROCCO', 'ENGLAND', 'ARGENTINA', 'FRANCE', 'CROATIA', 'ARGENTINA']\n",
            "['ECUADOR', 'IRAN', 'NETHERLANDS', 'WALES', 'SAUDI ARABIA', 'TUNISIA', 'POLAND', 'AUSTRALIA', 'CROATIA', 'JAPAN', 'COSTA RICA', 'CANADA', 'CAMEROON', 'KOREA REPUBLIC', 'GHANA', 'SERBIA', 'IRAN', 'SENEGAL', 'ECUADOR', 'UNITED STATES', 'AUSTRALIA', 'SAUDI ARABIA', 'DENMARK', 'MEXICO', 'COSTA RICA', 'MOROCCO', 'CANADA', 'GERMANY', 'SERBIA', 'GHANA', 'SWITZERLAND', 'URUGUAY', 'QATAR', 'SENEGAL', 'ENGLAND', 'UNITED STATES', 'DENMARK', 'FRANCE', 'ARGENTINA', 'MEXICO', 'BELGIUM', 'MOROCCO', 'SPAIN', 'GERMANY', 'URUGUAY', 'PORTUGAL', 'SWITZERLAND', 'BRAZIL', 'UNITED STATES', 'AUSTRALIA', 'POLAND', 'SENEGAL', 'CROATIA', 'KOREA REPUBLIC', 'SPAIN', 'SWITZERLAND', 'BRAZIL', 'ARGENTINA', 'PORTUGAL', 'FRANCE', 'CROATIA', 'MOROCCO', 'MOROCCO', 'FRANCE']\n",
            "[15, 30, 47, 53, 56]\n",
            "['QATAR x ECUADOR', 'ENGLAND x IRAN', 'SENEGAL x NETHERLANDS', 'UNITED STATES x WALES', 'ARGENTINA x SAUDI ARABIA', 'DENMARK x TUNISIA', 'MEXICO x POLAND', 'FRANCE x AUSTRALIA', 'MOROCCO x CROATIA', 'GERMANY x JAPAN', 'SPAIN x COSTA RICA', 'BELGIUM x CANADA', 'SWITZERLAND x CAMEROON', 'URUGUAY x KOREA REPUBLIC', 'PORTUGAL x GHANA', 'BRAZIL x SERBIA', 'WALES x IRAN', 'QATAR x SENEGAL', 'NETHERLANDS x ECUADOR', 'ENGLAND x UNITED STATES', 'TUNISIA x AUSTRALIA', 'POLAND x SAUDI ARABIA', 'FRANCE x DENMARK', 'ARGENTINA x MEXICO', 'JAPAN x COSTA RICA', 'BELGIUM x MOROCCO', 'CROATIA x CANADA', 'SPAIN x GERMANY', 'CAMEROON x SERBIA', 'KOREA REPUBLIC x GHANA', 'BRAZIL x SWITZERLAND', 'PORTUGAL x URUGUAY', 'NETHERLANDS x QATAR', 'ECUADOR x SENEGAL', 'WALES x ENGLAND', 'IRAN x UNITED STATES', 'AUSTRALIA x DENMARK', 'TUNISIA x FRANCE', 'POLAND x ARGENTINA', 'SAUDI ARABIA x MEXICO', 'CROATIA x BELGIUM', 'CANADA x MOROCCO', 'JAPAN x SPAIN', 'COSTA RICA x GERMANY', 'GHANA x URUGUAY', 'KOREA REPUBLIC x PORTUGAL', 'SERBIA x SWITZERLAND', 'CAMEROON x BRAZIL', 'NETHERLANDS x UNITED STATES', 'ARGENTINA x AUSTRALIA', 'FRANCE x POLAND', 'ENGLAND x SENEGAL', 'JAPAN x CROATIA', 'BRAZIL x KOREA REPUBLIC', 'MOROCCO x SPAIN', 'PORTUGAL x SWITZERLAND', 'CROATIA x BRAZIL', 'NETHERLANDS x ARGENTINA', 'MOROCCO x PORTUGAL', 'ENGLAND x FRANCE', 'ARGENTINA x CROATIA', 'FRANCE x MOROCCO', 'CROATIA x MOROCCO', 'ARGENTINA x FRANCE']\n",
            "['BRAZIL x SERBIA', 'BRAZIL x SWITZERLAND', 'CAMEROON x BRAZIL', 'BRAZIL x KOREA REPUBLIC', 'CROATIA x BRAZIL']\n",
            "5\n",
            "<function partidas at 0x7f7baf7d5c10>\n"
          ]
        }
      ]
    },
    {
      "cell_type": "code",
      "source": [
        "def cartao_amarelo(time):    #variavel para juntar e somar os cartões amarelos dos times por partida (time1 x time2)\n",
        "  cartao_amarelo1 = []       #Variavel de cartões amarelos time 1\n",
        "  cartao_amarelo2 = []       #Variavel de cartões amarelos time 2\n",
        "  soma_ca = []               #variavel para a soma \n",
        "\n",
        "  posicao_partidas = posicao_time(time)\n",
        "  posicao_ca = []\n",
        "\n",
        "  for i in Data:\n",
        "    cartao_amarelo1.append(i[56])  #lista de cartões amarelos time 1\n",
        "    cartao_amarelo2.append(i[57])  #lista de cartões amarelos time 2\n",
        "  \n",
        "  for x,y in enumerate(cartao_amarelo1):      #Percorre o Array a enumerando suas posições\n",
        "     soma_ca.append(y+cartao_amarelo2[x])     #somando elemento do array a com o elemento de mesma posição no array cartao_cv2\n",
        "\n",
        "  for i in soma_ca:                 #for para varrer a lista de soma de soma dos cartões amarelos\n",
        "    for  i in posicao_partidas:     #for para varrer a lista de posições das partidas do time\n",
        "      posicao_ca.append(soma_ca[i]) #adicionar os valores dos cartões amarelos de cada partida do time\n",
        "    break \n",
        "\n",
        "  print(cartao_amarelo1)\n",
        "  print(cartao_amarelo2)\n",
        "  print(len(cartao_amarelo1))\n",
        "  print(len(cartao_amarelo2))\n",
        "  print(soma_ca)\n",
        "  print(len(soma_ca))\n",
        "  print(posicao_ca)\n",
        "  print(len(posicao_ca))\n",
        "  return posicao_ca\n",
        "\n",
        "cartao_amarelo('BRAZIL')\n",
        "print(cartao_amarelo)"
      ],
      "metadata": {
        "colab": {
          "base_uri": "https://localhost:8080/"
        },
        "id": "nTf-eBzkZVla",
        "outputId": "4777c466-9df1-4688-ea89-7e8ea8b14a27"
      },
      "execution_count": 12,
      "outputs": [
        {
          "output_type": "stream",
          "name": "stdout",
          "text": [
            "['QATAR', 'ENGLAND', 'SENEGAL', 'UNITED STATES', 'ARGENTINA', 'DENMARK', 'MEXICO', 'FRANCE', 'MOROCCO', 'GERMANY', 'SPAIN', 'BELGIUM', 'SWITZERLAND', 'URUGUAY', 'PORTUGAL', 'BRAZIL', 'WALES', 'QATAR', 'NETHERLANDS', 'ENGLAND', 'TUNISIA', 'POLAND', 'FRANCE', 'ARGENTINA', 'JAPAN', 'BELGIUM', 'CROATIA', 'SPAIN', 'CAMEROON', 'KOREA REPUBLIC', 'BRAZIL', 'PORTUGAL', 'NETHERLANDS', 'ECUADOR', 'WALES', 'IRAN', 'AUSTRALIA', 'TUNISIA', 'POLAND', 'SAUDI ARABIA', 'CROATIA', 'CANADA', 'JAPAN', 'COSTA RICA', 'GHANA', 'KOREA REPUBLIC', 'SERBIA', 'CAMEROON', 'NETHERLANDS', 'ARGENTINA', 'FRANCE', 'ENGLAND', 'JAPAN', 'BRAZIL', 'MOROCCO', 'PORTUGAL', 'CROATIA', 'NETHERLANDS', 'MOROCCO', 'ENGLAND', 'ARGENTINA', 'FRANCE', 'CROATIA', 'ARGENTINA']\n",
            "['ECUADOR', 'IRAN', 'NETHERLANDS', 'WALES', 'SAUDI ARABIA', 'TUNISIA', 'POLAND', 'AUSTRALIA', 'CROATIA', 'JAPAN', 'COSTA RICA', 'CANADA', 'CAMEROON', 'KOREA REPUBLIC', 'GHANA', 'SERBIA', 'IRAN', 'SENEGAL', 'ECUADOR', 'UNITED STATES', 'AUSTRALIA', 'SAUDI ARABIA', 'DENMARK', 'MEXICO', 'COSTA RICA', 'MOROCCO', 'CANADA', 'GERMANY', 'SERBIA', 'GHANA', 'SWITZERLAND', 'URUGUAY', 'QATAR', 'SENEGAL', 'ENGLAND', 'UNITED STATES', 'DENMARK', 'FRANCE', 'ARGENTINA', 'MEXICO', 'BELGIUM', 'MOROCCO', 'SPAIN', 'GERMANY', 'URUGUAY', 'PORTUGAL', 'SWITZERLAND', 'BRAZIL', 'UNITED STATES', 'AUSTRALIA', 'POLAND', 'SENEGAL', 'CROATIA', 'KOREA REPUBLIC', 'SPAIN', 'SWITZERLAND', 'BRAZIL', 'ARGENTINA', 'PORTUGAL', 'FRANCE', 'CROATIA', 'MOROCCO', 'MOROCCO', 'FRANCE']\n",
            "[15, 30, 47, 53, 56]\n",
            "[4, 0, 2, 4, 0, 2, 2, 0, 1, 0, 0, 3, 2, 1, 2, 0, 1, 3, 0, 0, 3, 3, 1, 1, 3, 1, 2, 1, 2, 2, 1, 3, 1, 0, 2, 3, 2, 1, 1, 6, 0, 4, 3, 1, 2, 2, 7, 5, 2, 0, 1, 0, 0, 0, 1, 0, 2, 8, 3, 1, 2, 0, 0, 4]\n",
            "[2, 2, 1, 2, 6, 1, 1, 3, 0, 0, 2, 2, 1, 1, 4, 3, 2, 3, 1, 0, 0, 2, 2, 4, 3, 1, 2, 3, 2, 2, 1, 2, 0, 1, 0, 1, 1, 0, 1, 1, 1, 0, 0, 0, 5, 0, 4, 2, 0, 2, 2, 1, 2, 1, 1, 2, 3, 8, 1, 3, 2, 1, 2, 3]\n",
            "64\n",
            "64\n",
            "[6, 2, 3, 6, 6, 3, 3, 3, 1, 0, 2, 5, 3, 2, 6, 3, 3, 6, 1, 0, 3, 5, 3, 5, 6, 2, 4, 4, 4, 4, 2, 5, 1, 1, 2, 4, 3, 1, 2, 7, 1, 4, 3, 1, 7, 2, 11, 7, 2, 2, 3, 1, 2, 1, 2, 2, 5, 16, 4, 4, 4, 1, 2, 7]\n",
            "64\n",
            "[3, 2, 7, 1, 5]\n",
            "5\n",
            "<function cartao_amarelo at 0x7f7bae616160>\n"
          ]
        }
      ]
    },
    {
      "cell_type": "code",
      "source": [
        "def cartao_vermelho(time):    #variavel para juntar e somar os cartões vermelhos dos times por partida (time1 x time2)\n",
        "  cartao_vermelho1 = []       #Variavel de cartões vermelhos time 1\n",
        "  cartao_vermelho2 = []       #Variavel de cartões vermelhos time 2\n",
        "  soma_cv = []                #variavel para a soma\n",
        "  \n",
        "  posicao_partidas = posicao_time(time)\n",
        "  posicao_cv = []\n",
        "\n",
        "  for i in Data:\n",
        "    cartao_vermelho1.append(i[58])  #lista de cartões vermelhos time 1\n",
        "    cartao_vermelho2.append(i[59])  #lista de cartões vermelhos time 2\n",
        "\n",
        "  for x,y in enumerate(cartao_vermelho1):      #Percorre o Array a enumerando suas posições\n",
        "     soma_cv.append(y+cartao_vermelho2[x])     #somando elemento do array a com o elemento de mesma posição no array cartao_vermelho2 \n",
        "\n",
        "  for i in soma_cv:                 #for para varrer a lista de soma de soma dos cartões vermelhos\n",
        "    for  i in posicao_partidas:     #for para varrer a lista de posições das partidas do time\n",
        "      posicao_cv.append(soma_cv[i]) #adicionar os valores dos cartões vermelhos de cada partida do time\n",
        "    break \n",
        "\n",
        "  print(cartao_vermelho1)\n",
        "  print(cartao_vermelho2)\n",
        "  print(len(cartao_vermelho1))\n",
        "  print(len(cartao_vermelho2))\n",
        "  print(soma_cv)\n",
        "  print(len(soma_cv))\n",
        "  print(posicao_cv)\n",
        "  print(len(posicao_cv))\n",
        "\n",
        "  return posicao_cv\n",
        "\n",
        "cartao_vermelho('BRAZIL')\n",
        "print(cartao_vermelho)"
      ],
      "metadata": {
        "colab": {
          "base_uri": "https://localhost:8080/"
        },
        "id": "84ZBN_6zZZo6",
        "outputId": "114c7066-ad4c-44e5-bc99-c2717ab99b85"
      },
      "execution_count": 25,
      "outputs": [
        {
          "output_type": "stream",
          "name": "stdout",
          "text": [
            "[0, 0, 0, 0, 0, 0, 0, 0, 0, 0, 0, 0, 0, 0, 0, 0, 1, 0, 0, 0, 0, 0, 0, 0, 0, 0, 0, 0, 0, 0, 0, 0, 0, 0, 0, 0, 0, 0, 0, 0, 0, 0, 0, 0, 0, 0, 0, 1, 0, 0, 0, 0, 0, 0, 0, 0, 0, 1, 1, 0, 0, 0, 0, 0]\n",
            "[0, 0, 0, 0, 0, 0, 0, 0, 0, 0, 0, 0, 0, 0, 0, 0, 0, 0, 0, 0, 0, 0, 0, 0, 0, 0, 0, 0, 0, 0, 0, 0, 0, 0, 0, 0, 0, 0, 0, 0, 0, 0, 0, 0, 0, 0, 0, 0, 0, 0, 0, 0, 0, 0, 0, 0, 0, 0, 0, 0, 0, 0, 0, 0]\n",
            "64\n",
            "64\n",
            "[0, 0, 0, 0, 0, 0, 0, 0, 0, 0, 0, 0, 0, 0, 0, 0, 1, 0, 0, 0, 0, 0, 0, 0, 0, 0, 0, 0, 0, 0, 0, 0, 0, 0, 0, 0, 0, 0, 0, 0, 0, 0, 0, 0, 0, 0, 0, 1, 0, 0, 0, 0, 0, 0, 0, 0, 0, 1, 1, 0, 0, 0, 0, 0]\n",
            "64\n",
            "[0, 0, 1, 0, 0]\n",
            "5\n",
            "<function cartao_vermelho at 0x7f7bad1d0af0>\n"
          ]
        }
      ]
    },
    {
      "cell_type": "code",
      "source": [
        "#dash:\n",
        "app = JupyterDash(__name__)\n",
        "\n",
        "fig = px.bar()  #gráfico\n",
        "\n",
        "#configuração da pagina \n",
        "app.layout = html.Div(children=[\n",
        "    html.H1(children='Cartões Vermelhos e Amarelos'),\n",
        "    \n",
        "    dcc.Dropdown(opcoes_lista_times, value='time', id='times', searchable = True),  #barra de seleção, searchable: usuário pode digitar time\n",
        "    \n",
        "    dcc.Graph(            #configurações da interação\n",
        "        id='Cartões',     #tópico do gráfico\n",
        "        figure=fig),])    #facilita chamar o gráfico pro Dash\n",
        "\n",
        "@app.callback(    \n",
        "    Output('Cartões','figure'),\n",
        "    Input('times', 'value'))\n",
        "\n",
        "def update_output(time):     #função pra fazer a interação funcionar\n",
        "    Partidas = partidas(time)   #variavel para substituir a função\n",
        "    cv = cartao_vermelho(time)  #variavel para substituir a função\n",
        "    ca = cartao_amarelo(time)   #variavel para substituir a função\n",
        "\n",
        "    if time == []:           #se o usuário não escolher nada o gráfico continua ali\n",
        "        return px.bar()\n",
        "    if time == 'time':        #se o usuário escolher ou pesquisar um time:\n",
        "        fig = px.bar(labels={'x': 'Partidas', 'y': 'cartões'},    #embaixo vai aparecer as partidas\n",
        "                     x= {Partidas}, y={ca,cv},    #na esquerda vai aparecer a quantidade de cartões nessas partidas\n",
        "                     title=('Cartões Vermelhos e Amarelos por partidas de '+{time}),    #em cima vai estar o título e o time selecionado\n",
        "                     barmode=\"group\"),    #no topo das colunas amarelas vai estar(quando tiver) uma parte vermelha com os cartões vermelhos\n",
        "\n",
        "    print(Partidas)\n",
        "    print(len(Partidas))\n",
        "\n",
        "    print(cv)\n",
        "    print(len(cv))\n",
        "\n",
        "    print(ca)\n",
        "    print(len(ca))\n",
        "\n",
        "update_output('BRAZIL')\n",
        "print(update_output)"
      ],
      "metadata": {
        "colab": {
          "base_uri": "https://localhost:8080/"
        },
        "id": "jqCJhVvHacUy",
        "outputId": "dde99582-2571-47d3-84b6-4cf33becefd8"
      },
      "execution_count": 35,
      "outputs": [
        {
          "output_type": "stream",
          "name": "stdout",
          "text": [
            "['BRAZIL x SERBIA', 'BRAZIL x SWITZERLAND', 'CAMEROON x BRAZIL', 'BRAZIL x KOREA REPUBLIC', 'CROATIA x BRAZIL']\n",
            "5\n",
            "[0, 0, 1, 0, 0]\n",
            "5\n",
            "[3, 2, 7, 1, 5]\n",
            "5\n",
            "<function update_output at 0x7f7bad337670>\n"
          ]
        }
      ]
    }
  ]
}
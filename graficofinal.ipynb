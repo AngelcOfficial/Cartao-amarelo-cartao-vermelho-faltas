{
  "nbformat": 4,
  "nbformat_minor": 0,
  "metadata": {
    "colab": {
      "provenance": [],
      "authorship_tag": "ABX9TyMxIV1ITxnC2R8Ryosqb1ka",
      "include_colab_link": true
    },
    "kernelspec": {
      "name": "python3",
      "display_name": "Python 3"
    },
    "language_info": {
      "name": "python"
    }
  },
  "cells": [
    {
      "cell_type": "markdown",
      "metadata": {
        "id": "view-in-github",
        "colab_type": "text"
      },
      "source": [
        "<a href=\"https://colab.research.google.com/github/AngelcOfficial/Cartao-amarelo-cartao-vermelho-faltas/blob/main/graficofinal.ipynb\" target=\"_parent\"><img src=\"https://colab.research.google.com/assets/colab-badge.svg\" alt=\"Open In Colab\"/></a>"
      ]
    },
    {
      "cell_type": "code",
      "execution_count": 2,
      "metadata": {
        "colab": {
          "base_uri": "https://localhost:8080/",
          "height": 542
        },
        "id": "AHL7xbx57JLS",
        "outputId": "5e062278-b291-437b-978c-e526b02e1450"
      },
      "outputs": [
        {
          "output_type": "display_data",
          "data": {
            "text/html": [
              "<html>\n",
              "<head><meta charset=\"utf-8\" /></head>\n",
              "<body>\n",
              "    <div>            <script src=\"https://cdnjs.cloudflare.com/ajax/libs/mathjax/2.7.5/MathJax.js?config=TeX-AMS-MML_SVG\"></script><script type=\"text/javascript\">if (window.MathJax) {MathJax.Hub.Config({SVG: {font: \"STIX-Web\"}});}</script>                <script type=\"text/javascript\">window.PlotlyConfig = {MathJaxConfig: 'local'};</script>\n",
              "        <script src=\"https://cdn.plot.ly/plotly-2.8.3.min.js\"></script>                <div id=\"e2b5e64f-f16e-4c17-8c76-836b400af168\" class=\"plotly-graph-div\" style=\"height:525px; width:100%;\"></div>            <script type=\"text/javascript\">                                    window.PLOTLYENV=window.PLOTLYENV || {};                                    if (document.getElementById(\"e2b5e64f-f16e-4c17-8c76-836b400af168\")) {                    Plotly.newPlot(                        \"e2b5e64f-f16e-4c17-8c76-836b400af168\",                        [{\"alignmentgroup\":\"True\",\"hovertemplate\":\"variable=Total de Cart\\u00e3o vermelho<br>Partidas=%{x}<br>value=%{y}<extra></extra>\",\"legendgroup\":\"Total de Cart\\u00e3o vermelho\",\"marker\":{\"color\":\"#636efa\",\"pattern\":{\"shape\":\"\"}},\"name\":\"Total de Cart\\u00e3o vermelho\",\"offsetgroup\":\"Total de Cart\\u00e3o vermelho\",\"orientation\":\"v\",\"showlegend\":true,\"textposition\":\"auto\",\"x\":[\"QATAR,ECUADOR\",\"ENGLAND, IRAN\",\"SENEGAL,NETHERLANDS\",\"UNITED STATES,WALES\",\"ARGENTINA,SAUDI ARABIA\",\"DENMARK,TUNISIA\",\"MEXICO,POLAND\",\"FRANCE,AUSTRALIA\",\"MOROCCO,CROATIA\",\"GERMANY,JAPAN\",\"SPAIN,COSTA RICA\",\"BELGIUM,CANADA\",\"SWITZERLAND,CAMEROON\",\"URUGUAY,KOREA REPUBLIC\",\"PORTUGAL,GHANA\",\"BRAZIL,SERBIA\",\"WALES,IRAN\",\"QATAR,SENEGAL\",\"NETHERLANDS,ECUADOR\",\"ENGLAND,UNITED STATES\",\"TUNISIA,AUSTRALIA\",\"POLAND,SAUDI ARABIA\",\"FRANCE,DENMARK\",\"ARGENTINA,MEXICO\",\"JAPAN,COSTA RICA\",\"BELGIUM,MOROCCO\",\"CROATIA,CANADA\",\"SPAIN,GERMANY\",\"CAMEROON,SERBIA\",\"KOREA REPUBLIC,GHANA\",\"BRAZIL,SWITZERLAND\",\"PORTUGAL,URUGUAY\",\"NETHERLANDS,QATAR\",\"ECUADOR,SENEGAL\",\"WALES,ENGLAND\",\"IRAN,UNITED STATES\",\"AUSTRALIA,DENMARK\",\"TUNISIA,FRANCE\",\"POLAND,ARGENTINA\",\"SAUDI ARABIA,MEXICO\",\"CROATIA,BELGIUM\",\"CANADA,MOROCCO\",\"JAPAN,SPAIN\",\"COSTA RICA,GERMANY\",\"GHANA,URUGUAY\",\"KOREA REPUBLIC,PORTUGAL\",\"SERBIA, SWITZERLAND\",\"CAMEROON, BRAZIL\",\"NETHERLANDS, UNITED\",\"ARGENTINA , AUSTRALIA\",\"FRANCE, POLAND\",\"ENGLAND, SENEGAL\",\"JAPAN, CROATIA\",\"BRAZIL, KOREA REPUBLIC\",\"MOROCCO, SPAIN\",\"PORTUGAL, SWITZERLAND\",\"CROATIA, BRAZIL\",\"NETHERLANDS, ARGENTINA\",\"MOROCCO, PORTUGAL\",\"ENGLAND, FRANCE\",\"ARGENTINA, CROATIA\",\"MOROCCO, FRANCE\",\"CROATIA, MOROCCO\",\"ARGENTINA, FRANCE\"],\"xaxis\":\"x\",\"y\":[0,0,0,0,0,0,0,0,0,0,0,0,0,0,0,0,1,0,0,0,0,0,0,0,0,0,0,0,0,0,0,0,0,0,0,0,0,0,0,0,0,0,0,0,0,0,0,1,0,0,0,0,0,0,0,0,0,1,1,0,0,0,0,0],\"yaxis\":\"y\",\"type\":\"bar\"},{\"alignmentgroup\":\"True\",\"hovertemplate\":\"variable=Total de Cart\\u00e3o Amarelo<br>Partidas=%{x}<br>value=%{y}<extra></extra>\",\"legendgroup\":\"Total de Cart\\u00e3o Amarelo\",\"marker\":{\"color\":\"#EF553B\",\"pattern\":{\"shape\":\"\"}},\"name\":\"Total de Cart\\u00e3o Amarelo\",\"offsetgroup\":\"Total de Cart\\u00e3o Amarelo\",\"orientation\":\"v\",\"showlegend\":true,\"textposition\":\"auto\",\"x\":[\"QATAR,ECUADOR\",\"ENGLAND, IRAN\",\"SENEGAL,NETHERLANDS\",\"UNITED STATES,WALES\",\"ARGENTINA,SAUDI ARABIA\",\"DENMARK,TUNISIA\",\"MEXICO,POLAND\",\"FRANCE,AUSTRALIA\",\"MOROCCO,CROATIA\",\"GERMANY,JAPAN\",\"SPAIN,COSTA RICA\",\"BELGIUM,CANADA\",\"SWITZERLAND,CAMEROON\",\"URUGUAY,KOREA REPUBLIC\",\"PORTUGAL,GHANA\",\"BRAZIL,SERBIA\",\"WALES,IRAN\",\"QATAR,SENEGAL\",\"NETHERLANDS,ECUADOR\",\"ENGLAND,UNITED STATES\",\"TUNISIA,AUSTRALIA\",\"POLAND,SAUDI ARABIA\",\"FRANCE,DENMARK\",\"ARGENTINA,MEXICO\",\"JAPAN,COSTA RICA\",\"BELGIUM,MOROCCO\",\"CROATIA,CANADA\",\"SPAIN,GERMANY\",\"CAMEROON,SERBIA\",\"KOREA REPUBLIC,GHANA\",\"BRAZIL,SWITZERLAND\",\"PORTUGAL,URUGUAY\",\"NETHERLANDS,QATAR\",\"ECUADOR,SENEGAL\",\"WALES,ENGLAND\",\"IRAN,UNITED STATES\",\"AUSTRALIA,DENMARK\",\"TUNISIA,FRANCE\",\"POLAND,ARGENTINA\",\"SAUDI ARABIA,MEXICO\",\"CROATIA,BELGIUM\",\"CANADA,MOROCCO\",\"JAPAN,SPAIN\",\"COSTA RICA,GERMANY\",\"GHANA,URUGUAY\",\"KOREA REPUBLIC,PORTUGAL\",\"SERBIA, SWITZERLAND\",\"CAMEROON, BRAZIL\",\"NETHERLANDS, UNITED\",\"ARGENTINA , AUSTRALIA\",\"FRANCE, POLAND\",\"ENGLAND, SENEGAL\",\"JAPAN, CROATIA\",\"BRAZIL, KOREA REPUBLIC\",\"MOROCCO, SPAIN\",\"PORTUGAL, SWITZERLAND\",\"CROATIA, BRAZIL\",\"NETHERLANDS, ARGENTINA\",\"MOROCCO, PORTUGAL\",\"ENGLAND, FRANCE\",\"ARGENTINA, CROATIA\",\"MOROCCO, FRANCE\",\"CROATIA, MOROCCO\",\"ARGENTINA, FRANCE\"],\"xaxis\":\"x\",\"y\":[6,2,3,6,6,3,2,3,1,0,2,5,3,2,6,3,3,6,1,0,3,5,3,5,6,2,4,4,4,4,2,5,1,1,4,4,3,1,2,7,1,4,3,1,7,2,11,5,2,2,3,1,2,1,2,2,5,14,2,4,4,1,2,8],\"yaxis\":\"y\",\"type\":\"bar\"},{\"alignmentgroup\":\"True\",\"hovertemplate\":\"variable=Total de Faltas<br>Partidas=%{x}<br>value=%{y}<extra></extra>\",\"legendgroup\":\"Total de Faltas\",\"marker\":{\"color\":\"#00cc96\",\"pattern\":{\"shape\":\"\"}},\"name\":\"Total de Faltas\",\"offsetgroup\":\"Total de Faltas\",\"orientation\":\"v\",\"showlegend\":true,\"textposition\":\"auto\",\"x\":[\"QATAR,ECUADOR\",\"ENGLAND, IRAN\",\"SENEGAL,NETHERLANDS\",\"UNITED STATES,WALES\",\"ARGENTINA,SAUDI ARABIA\",\"DENMARK,TUNISIA\",\"MEXICO,POLAND\",\"FRANCE,AUSTRALIA\",\"MOROCCO,CROATIA\",\"GERMANY,JAPAN\",\"SPAIN,COSTA RICA\",\"BELGIUM,CANADA\",\"SWITZERLAND,CAMEROON\",\"URUGUAY,KOREA REPUBLIC\",\"PORTUGAL,GHANA\",\"BRAZIL,SERBIA\",\"WALES,IRAN\",\"QATAR,SENEGAL\",\"NETHERLANDS,ECUADOR\",\"ENGLAND,UNITED STATES\",\"TUNISIA,AUSTRALIA\",\"POLAND,SAUDI ARABIA\",\"FRANCE,DENMARK\",\"ARGENTINA,MEXICO\",\"JAPAN,COSTA RICA\",\"BELGIUM,MOROCCO\",\"CROATIA,CANADA\",\"SPAIN,GERMANY\",\"CAMEROON,SERBIA\",\"KOREA REPUBLIC,GHANA\",\"BRAZIL,SWITZERLAND\",\"PORTUGAL,URUGUAY\",\"NETHERLANDS,QATAR\",\"ECUADOR,SENEGAL\",\"WALES,ENGLAND\",\"IRAN,UNITED STATES\",\"AUSTRALIA,DENMARK\",\"TUNISIA,FRANCE\",\"POLAND,ARGENTINA\",\"SAUDI ARABIA,MEXICO\",\"CROATIA,BELGIUM\",\"CANADA,MOROCCO\",\"JAPAN,SPAIN\",\"COSTA RICA,GERMANY\",\"GHANA,URUGUAY\",\"KOREA REPUBLIC,PORTUGAL\",\"SERBIA, SWITZERLAND\",\"CAMEROON, BRAZIL\",\"NETHERLANDS, UNITED\",\"ARGENTINA , AUSTRALIA\",\"FRANCE, POLAND\",\"ENGLAND, SENEGAL\",\"JAPAN, CROATIA\",\"BRAZIL, KOREA REPUBLIC\",\"MOROCCO, SPAIN\",\"PORTUGAL, SWITZERLAND\",\"CROATIA, BRAZIL\",\"NETHERLANDS, ARGENTINA\",\"MOROCCO, PORTUGAL\",\"ENGLAND, FRANCE\",\"ARGENTINA, CROATIA\",\"MOROCCO, FRANCE\",\"CROATIA, MOROCCO\",\"ARGENTINA, FRANCE\"],\"xaxis\":\"x\",\"y\":[30,23,26,25,28,19,30,16,28,20,20,25,22,17,33,19,19,19,27,24,31,33,13,34,31,24,18,24,21,22,27,26,28,34,25,23,21,20,17,38,16,28,15,12,29,20,31,28,15,23,18,28,29,21,29,22,46,48,24,24,23,22,24,47],\"yaxis\":\"y\",\"type\":\"bar\"}],                        {\"template\":{\"data\":{\"bar\":[{\"error_x\":{\"color\":\"#2a3f5f\"},\"error_y\":{\"color\":\"#2a3f5f\"},\"marker\":{\"line\":{\"color\":\"#E5ECF6\",\"width\":0.5},\"pattern\":{\"fillmode\":\"overlay\",\"size\":10,\"solidity\":0.2}},\"type\":\"bar\"}],\"barpolar\":[{\"marker\":{\"line\":{\"color\":\"#E5ECF6\",\"width\":0.5},\"pattern\":{\"fillmode\":\"overlay\",\"size\":10,\"solidity\":0.2}},\"type\":\"barpolar\"}],\"carpet\":[{\"aaxis\":{\"endlinecolor\":\"#2a3f5f\",\"gridcolor\":\"white\",\"linecolor\":\"white\",\"minorgridcolor\":\"white\",\"startlinecolor\":\"#2a3f5f\"},\"baxis\":{\"endlinecolor\":\"#2a3f5f\",\"gridcolor\":\"white\",\"linecolor\":\"white\",\"minorgridcolor\":\"white\",\"startlinecolor\":\"#2a3f5f\"},\"type\":\"carpet\"}],\"choropleth\":[{\"colorbar\":{\"outlinewidth\":0,\"ticks\":\"\"},\"type\":\"choropleth\"}],\"contour\":[{\"colorbar\":{\"outlinewidth\":0,\"ticks\":\"\"},\"colorscale\":[[0.0,\"#0d0887\"],[0.1111111111111111,\"#46039f\"],[0.2222222222222222,\"#7201a8\"],[0.3333333333333333,\"#9c179e\"],[0.4444444444444444,\"#bd3786\"],[0.5555555555555556,\"#d8576b\"],[0.6666666666666666,\"#ed7953\"],[0.7777777777777778,\"#fb9f3a\"],[0.8888888888888888,\"#fdca26\"],[1.0,\"#f0f921\"]],\"type\":\"contour\"}],\"contourcarpet\":[{\"colorbar\":{\"outlinewidth\":0,\"ticks\":\"\"},\"type\":\"contourcarpet\"}],\"heatmap\":[{\"colorbar\":{\"outlinewidth\":0,\"ticks\":\"\"},\"colorscale\":[[0.0,\"#0d0887\"],[0.1111111111111111,\"#46039f\"],[0.2222222222222222,\"#7201a8\"],[0.3333333333333333,\"#9c179e\"],[0.4444444444444444,\"#bd3786\"],[0.5555555555555556,\"#d8576b\"],[0.6666666666666666,\"#ed7953\"],[0.7777777777777778,\"#fb9f3a\"],[0.8888888888888888,\"#fdca26\"],[1.0,\"#f0f921\"]],\"type\":\"heatmap\"}],\"heatmapgl\":[{\"colorbar\":{\"outlinewidth\":0,\"ticks\":\"\"},\"colorscale\":[[0.0,\"#0d0887\"],[0.1111111111111111,\"#46039f\"],[0.2222222222222222,\"#7201a8\"],[0.3333333333333333,\"#9c179e\"],[0.4444444444444444,\"#bd3786\"],[0.5555555555555556,\"#d8576b\"],[0.6666666666666666,\"#ed7953\"],[0.7777777777777778,\"#fb9f3a\"],[0.8888888888888888,\"#fdca26\"],[1.0,\"#f0f921\"]],\"type\":\"heatmapgl\"}],\"histogram\":[{\"marker\":{\"pattern\":{\"fillmode\":\"overlay\",\"size\":10,\"solidity\":0.2}},\"type\":\"histogram\"}],\"histogram2d\":[{\"colorbar\":{\"outlinewidth\":0,\"ticks\":\"\"},\"colorscale\":[[0.0,\"#0d0887\"],[0.1111111111111111,\"#46039f\"],[0.2222222222222222,\"#7201a8\"],[0.3333333333333333,\"#9c179e\"],[0.4444444444444444,\"#bd3786\"],[0.5555555555555556,\"#d8576b\"],[0.6666666666666666,\"#ed7953\"],[0.7777777777777778,\"#fb9f3a\"],[0.8888888888888888,\"#fdca26\"],[1.0,\"#f0f921\"]],\"type\":\"histogram2d\"}],\"histogram2dcontour\":[{\"colorbar\":{\"outlinewidth\":0,\"ticks\":\"\"},\"colorscale\":[[0.0,\"#0d0887\"],[0.1111111111111111,\"#46039f\"],[0.2222222222222222,\"#7201a8\"],[0.3333333333333333,\"#9c179e\"],[0.4444444444444444,\"#bd3786\"],[0.5555555555555556,\"#d8576b\"],[0.6666666666666666,\"#ed7953\"],[0.7777777777777778,\"#fb9f3a\"],[0.8888888888888888,\"#fdca26\"],[1.0,\"#f0f921\"]],\"type\":\"histogram2dcontour\"}],\"mesh3d\":[{\"colorbar\":{\"outlinewidth\":0,\"ticks\":\"\"},\"type\":\"mesh3d\"}],\"parcoords\":[{\"line\":{\"colorbar\":{\"outlinewidth\":0,\"ticks\":\"\"}},\"type\":\"parcoords\"}],\"pie\":[{\"automargin\":true,\"type\":\"pie\"}],\"scatter\":[{\"marker\":{\"colorbar\":{\"outlinewidth\":0,\"ticks\":\"\"}},\"type\":\"scatter\"}],\"scatter3d\":[{\"line\":{\"colorbar\":{\"outlinewidth\":0,\"ticks\":\"\"}},\"marker\":{\"colorbar\":{\"outlinewidth\":0,\"ticks\":\"\"}},\"type\":\"scatter3d\"}],\"scattercarpet\":[{\"marker\":{\"colorbar\":{\"outlinewidth\":0,\"ticks\":\"\"}},\"type\":\"scattercarpet\"}],\"scattergeo\":[{\"marker\":{\"colorbar\":{\"outlinewidth\":0,\"ticks\":\"\"}},\"type\":\"scattergeo\"}],\"scattergl\":[{\"marker\":{\"colorbar\":{\"outlinewidth\":0,\"ticks\":\"\"}},\"type\":\"scattergl\"}],\"scattermapbox\":[{\"marker\":{\"colorbar\":{\"outlinewidth\":0,\"ticks\":\"\"}},\"type\":\"scattermapbox\"}],\"scatterpolar\":[{\"marker\":{\"colorbar\":{\"outlinewidth\":0,\"ticks\":\"\"}},\"type\":\"scatterpolar\"}],\"scatterpolargl\":[{\"marker\":{\"colorbar\":{\"outlinewidth\":0,\"ticks\":\"\"}},\"type\":\"scatterpolargl\"}],\"scatterternary\":[{\"marker\":{\"colorbar\":{\"outlinewidth\":0,\"ticks\":\"\"}},\"type\":\"scatterternary\"}],\"surface\":[{\"colorbar\":{\"outlinewidth\":0,\"ticks\":\"\"},\"colorscale\":[[0.0,\"#0d0887\"],[0.1111111111111111,\"#46039f\"],[0.2222222222222222,\"#7201a8\"],[0.3333333333333333,\"#9c179e\"],[0.4444444444444444,\"#bd3786\"],[0.5555555555555556,\"#d8576b\"],[0.6666666666666666,\"#ed7953\"],[0.7777777777777778,\"#fb9f3a\"],[0.8888888888888888,\"#fdca26\"],[1.0,\"#f0f921\"]],\"type\":\"surface\"}],\"table\":[{\"cells\":{\"fill\":{\"color\":\"#EBF0F8\"},\"line\":{\"color\":\"white\"}},\"header\":{\"fill\":{\"color\":\"#C8D4E3\"},\"line\":{\"color\":\"white\"}},\"type\":\"table\"}]},\"layout\":{\"annotationdefaults\":{\"arrowcolor\":\"#2a3f5f\",\"arrowhead\":0,\"arrowwidth\":1},\"autotypenumbers\":\"strict\",\"coloraxis\":{\"colorbar\":{\"outlinewidth\":0,\"ticks\":\"\"}},\"colorscale\":{\"diverging\":[[0,\"#8e0152\"],[0.1,\"#c51b7d\"],[0.2,\"#de77ae\"],[0.3,\"#f1b6da\"],[0.4,\"#fde0ef\"],[0.5,\"#f7f7f7\"],[0.6,\"#e6f5d0\"],[0.7,\"#b8e186\"],[0.8,\"#7fbc41\"],[0.9,\"#4d9221\"],[1,\"#276419\"]],\"sequential\":[[0.0,\"#0d0887\"],[0.1111111111111111,\"#46039f\"],[0.2222222222222222,\"#7201a8\"],[0.3333333333333333,\"#9c179e\"],[0.4444444444444444,\"#bd3786\"],[0.5555555555555556,\"#d8576b\"],[0.6666666666666666,\"#ed7953\"],[0.7777777777777778,\"#fb9f3a\"],[0.8888888888888888,\"#fdca26\"],[1.0,\"#f0f921\"]],\"sequentialminus\":[[0.0,\"#0d0887\"],[0.1111111111111111,\"#46039f\"],[0.2222222222222222,\"#7201a8\"],[0.3333333333333333,\"#9c179e\"],[0.4444444444444444,\"#bd3786\"],[0.5555555555555556,\"#d8576b\"],[0.6666666666666666,\"#ed7953\"],[0.7777777777777778,\"#fb9f3a\"],[0.8888888888888888,\"#fdca26\"],[1.0,\"#f0f921\"]]},\"colorway\":[\"#636efa\",\"#EF553B\",\"#00cc96\",\"#ab63fa\",\"#FFA15A\",\"#19d3f3\",\"#FF6692\",\"#B6E880\",\"#FF97FF\",\"#FECB52\"],\"font\":{\"color\":\"#2a3f5f\"},\"geo\":{\"bgcolor\":\"white\",\"lakecolor\":\"white\",\"landcolor\":\"#E5ECF6\",\"showlakes\":true,\"showland\":true,\"subunitcolor\":\"white\"},\"hoverlabel\":{\"align\":\"left\"},\"hovermode\":\"closest\",\"mapbox\":{\"style\":\"light\"},\"paper_bgcolor\":\"white\",\"plot_bgcolor\":\"#E5ECF6\",\"polar\":{\"angularaxis\":{\"gridcolor\":\"white\",\"linecolor\":\"white\",\"ticks\":\"\"},\"bgcolor\":\"#E5ECF6\",\"radialaxis\":{\"gridcolor\":\"white\",\"linecolor\":\"white\",\"ticks\":\"\"}},\"scene\":{\"xaxis\":{\"backgroundcolor\":\"#E5ECF6\",\"gridcolor\":\"white\",\"gridwidth\":2,\"linecolor\":\"white\",\"showbackground\":true,\"ticks\":\"\",\"zerolinecolor\":\"white\"},\"yaxis\":{\"backgroundcolor\":\"#E5ECF6\",\"gridcolor\":\"white\",\"gridwidth\":2,\"linecolor\":\"white\",\"showbackground\":true,\"ticks\":\"\",\"zerolinecolor\":\"white\"},\"zaxis\":{\"backgroundcolor\":\"#E5ECF6\",\"gridcolor\":\"white\",\"gridwidth\":2,\"linecolor\":\"white\",\"showbackground\":true,\"ticks\":\"\",\"zerolinecolor\":\"white\"}},\"shapedefaults\":{\"line\":{\"color\":\"#2a3f5f\"}},\"ternary\":{\"aaxis\":{\"gridcolor\":\"white\",\"linecolor\":\"white\",\"ticks\":\"\"},\"baxis\":{\"gridcolor\":\"white\",\"linecolor\":\"white\",\"ticks\":\"\"},\"bgcolor\":\"#E5ECF6\",\"caxis\":{\"gridcolor\":\"white\",\"linecolor\":\"white\",\"ticks\":\"\"}},\"title\":{\"x\":0.05},\"xaxis\":{\"automargin\":true,\"gridcolor\":\"white\",\"linecolor\":\"white\",\"ticks\":\"\",\"title\":{\"standoff\":15},\"zerolinecolor\":\"white\",\"zerolinewidth\":2},\"yaxis\":{\"automargin\":true,\"gridcolor\":\"white\",\"linecolor\":\"white\",\"ticks\":\"\",\"title\":{\"standoff\":15},\"zerolinecolor\":\"white\",\"zerolinewidth\":2}}},\"xaxis\":{\"anchor\":\"y\",\"domain\":[0.0,1.0],\"title\":{\"text\":\"Partidas\"},\"tickangle\":-85},\"yaxis\":{\"anchor\":\"x\",\"domain\":[0.0,1.0],\"title\":{\"text\":\"value\"}},\"legend\":{\"title\":{\"text\":\"variable\"},\"tracegroupgap\":0},\"title\":{\"text\":\"Total de Cart\\u00f5es Amarelos,Total de Cart\\u00f5es vermelhos e Total de Faltas das partidas.\"},\"barmode\":\"group\",\"paper_bgcolor\":\"white\"},                        {\"responsive\": true}                    ).then(function(){\n",
              "                            \n",
              "var gd = document.getElementById('e2b5e64f-f16e-4c17-8c76-836b400af168');\n",
              "var x = new MutationObserver(function (mutations, observer) {{\n",
              "        var display = window.getComputedStyle(gd).display;\n",
              "        if (!display || display === 'none') {{\n",
              "            console.log([gd, 'removed!']);\n",
              "            Plotly.purge(gd);\n",
              "            observer.disconnect();\n",
              "        }}\n",
              "}});\n",
              "\n",
              "// Listen for the removal of the full notebook cells\n",
              "var notebookContainer = gd.closest('#notebook-container');\n",
              "if (notebookContainer) {{\n",
              "    x.observe(notebookContainer, {childList: true});\n",
              "}}\n",
              "\n",
              "// Listen for the clearing of the current output cell\n",
              "var outputEl = gd.closest('.output');\n",
              "if (outputEl) {{\n",
              "    x.observe(outputEl, {childList: true});\n",
              "}}\n",
              "\n",
              "                        })                };                            </script>        </div>\n",
              "</body>\n",
              "</html>"
            ]
          },
          "metadata": {}
        }
      ],
      "source": [
        "import plotly.express as px\n",
        "import pandas as pd\n",
        "\n",
        "#Ler csv do dataset\n",
        "df = pd.read_csv('https://raw.githubusercontent.com/AngelcOfficial/Cartao-amarelo-cartao-vermelho-faltas/main/csv%20-%202.2.csv')\n",
        "\n",
        "#colunas do grafico\n",
        "fig=px.bar(df,\n",
        "    x = 'Partidas' , #declaração de variavel do eixo x (partidas/times)\n",
        "    y = ['Total de Cartão vermelho','Total de Cartão Amarelo','Total de Faltas'],   #valores totais dos cartões amarelos,valores totais dos cartões vermelhos e faltas.\n",
        "        title = \"Total de Cartões Amarelos,Total de Cartões vermelhos e Total de Faltas das partidas.\", #titulo do grafico\n",
        ") \n",
        "\n",
        "fig.update_layout(paper_bgcolor=\"white\") #mudar a cor do fundo\n",
        "fig.update_layout(barmode='group', xaxis_tickangle=-85) #angulo da legenda do eixo x\n",
        "fig.show() \n",
        "\n",
        "\n",
        "#Melhorar:\n",
        "#Usar o csv original\n",
        "#Variavel x = 'team1','x','team2' \n",
        "    #Imprimir os dois times \n",
        "#Variavel y = [(sum'yellow cards team1','yellow cards team2')]\n",
        "    #somar os cartões amarelos do time 1 e 2\n"
      ]
    },
    {
      "cell_type": "code",
      "source": [],
      "metadata": {
        "id": "BgAqPkyALgW-"
      },
      "execution_count": null,
      "outputs": []
    }
  ]
}
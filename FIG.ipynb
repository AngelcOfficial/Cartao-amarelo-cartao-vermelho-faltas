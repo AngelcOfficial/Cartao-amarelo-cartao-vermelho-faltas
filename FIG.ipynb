{
  "nbformat": 4,
  "nbformat_minor": 0,
  "metadata": {
    "colab": {
      "provenance": [],
      "authorship_tag": "ABX9TyM16uRLGPWeTNYRRA7Fsymx",
      "include_colab_link": true
    },
    "kernelspec": {
      "name": "python3",
      "display_name": "Python 3"
    },
    "language_info": {
      "name": "python"
    }
  },
  "cells": [
    {
      "cell_type": "markdown",
      "metadata": {
        "id": "view-in-github",
        "colab_type": "text"
      },
      "source": [
        "<a href=\"https://colab.research.google.com/github/AngelcOfficial/Cartao-amarelo-cartao-vermelho-faltas/blob/main/FIG.ipynb\" target=\"_parent\"><img src=\"https://colab.research.google.com/assets/colab-badge.svg\" alt=\"Open In Colab\"/></a>"
      ]
    },
    {
      "cell_type": "code",
      "execution_count": 11,
      "metadata": {
        "colab": {
          "base_uri": "https://localhost:8080/",
          "height": 542
        },
        "id": "M6JMFzigESwP",
        "outputId": "22c00d5c-b48c-451f-dd5b-5a87f130a7a9"
      },
      "outputs": [
        {
          "output_type": "display_data",
          "data": {
            "text/html": [
              "<html>\n",
              "<head><meta charset=\"utf-8\" /></head>\n",
              "<body>\n",
              "    <div>            <script src=\"https://cdnjs.cloudflare.com/ajax/libs/mathjax/2.7.5/MathJax.js?config=TeX-AMS-MML_SVG\"></script><script type=\"text/javascript\">if (window.MathJax) {MathJax.Hub.Config({SVG: {font: \"STIX-Web\"}});}</script>                <script type=\"text/javascript\">window.PlotlyConfig = {MathJaxConfig: 'local'};</script>\n",
              "        <script src=\"https://cdn.plot.ly/plotly-2.8.3.min.js\"></script>                <div id=\"96f6a010-17a8-4489-8e5e-1a56fc4c5812\" class=\"plotly-graph-div\" style=\"height:525px; width:100%;\"></div>            <script type=\"text/javascript\">                                    window.PLOTLYENV=window.PLOTLYENV || {};                                    if (document.getElementById(\"96f6a010-17a8-4489-8e5e-1a56fc4c5812\")) {                    Plotly.newPlot(                        \"96f6a010-17a8-4489-8e5e-1a56fc4c5812\",                        [{\"alignmentgroup\":\"True\",\"hovertemplate\":\"variable=Cart\\u00f4es amarelos<br>Partidas=%{x}<br>value=%{y}<extra></extra>\",\"legendgroup\":\"Cart\\u00f4es amarelos\",\"marker\":{\"color\":\"gold\",\"pattern\":{\"shape\":\"\"}},\"name\":\"Cart\\u00f4es amarelos\",\"offsetgroup\":\"Cart\\u00f4es amarelos\",\"orientation\":\"v\",\"showlegend\":true,\"textposition\":\"auto\",\"x\":[\"QATAR x ECUADOR\",\"ENGLAND x IRAN\",\"SENEGAL x NETHERLANDS\",\"UNITED STATES x WALES\",\"ARGENTINA x SAUDI ARABIA\",\"DENMARK x TUNISIA\",\"MEXICO x POLAND\",\"FRANCE x AUSTRALIA\",\"MOROCCO x CROATIA\",\"GERMANY x JAPAN\",\"SPAIN x COSTA RICA\",\"BELGIUM x CANADA\",\"SWITZERLAND x CAMEROON\",\"URUGUAY x KOREA REPUBLIC\",\"PORTUGAL x GHANA\",\"BRAZIL x SERBIA\",\"WALES x IRAN\",\"QATAR x SENEGAL\",\"NETHERLANDS x ECUADOR\",\"ENGLAND x UNITED STATES\",\"TUNISIA x AUSTRALIA\",\"POLAND x SAUDI ARABIA\",\"FRANCE x DENMARK\",\"ARGENTINA x MEXICO\",\"JAPAN x COSTA RICA\",\"BELGIUM x MOROCCO\",\"CROATIA x CANADA\",\"SPAIN x GERMANY\",\"CAMEROON x SERBIA\",\"KOREA REPUBLIC x GHANA\",\"BRAZIL x SWITZERLAND\",\"PORTUGAL x URUGUAY\",\"NETHERLANDS x QATAR\",\"ECUADOR x SENEGAL\",\"WALES x ENGLAND\",\"IRAN x UNITED STATES\",\"AUSTRALIA x DENMARK\",\"TUNISIA x FRANCE\",\"POLAND x ARGENTINA\",\"SAUDI ARABIA x MEXICO\",\"CROATIA x BELGIUM\",\"CANADA x MOROCCO\",\"JAPAN x SPAIN\",\"COSTA RICA x GERMANY\",\"GHANA x URUGUAY\",\"KOREA REPUBLIC x PORTUGAL\",\"SERBIA x SWITZERLAND\",\"CAMEROON x BRAZIL\",\"NETHERLANDS x UNITED STATES\",\"ARGENTINA x AUSTRALIA\",\"FRANCE x POLAND\",\"ENGLAND x SENEGAL\",\"JAPAN x CROATIA\",\"BRAZIL x KOREA REPUBLIC\",\"MOROCCO x SPAIN\",\"PORTUGAL x SWITZERLAND\",\"CROATIA x BRAZIL\",\"NETHERLANDS x ARGENTINA\",\"MOROCCO x PORTUGAL\",\"ENGLAND x FRANCE\",\"ARGENTINA x CROATIA\",\"FRANCE x MOROCCO\",\"CROATIA x MOROCCO\",\"ARGENTINA x FRANCE\"],\"xaxis\":\"x\",\"y\":[6,2,3,6,6,3,3,3,1,0,2,5,3,2,6,3,3,6,1,0,3,5,3,5,6,2,4,4,4,4,2,5,1,1,2,4,3,1,2,7,1,4,3,1,7,2,11,7,2,2,3,1,2,1,2,2,5,16,4,4,4,1,2,7],\"yaxis\":\"y\",\"type\":\"bar\"},{\"alignmentgroup\":\"True\",\"hovertemplate\":\"variable=Cart\\u00f5es vermelhos<br>Partidas=%{x}<br>value=%{y}<extra></extra>\",\"legendgroup\":\"Cart\\u00f5es vermelhos\",\"marker\":{\"color\":\"firebrick\",\"pattern\":{\"shape\":\"\"}},\"name\":\"Cart\\u00f5es vermelhos\",\"offsetgroup\":\"Cart\\u00f5es vermelhos\",\"orientation\":\"v\",\"showlegend\":true,\"textposition\":\"auto\",\"x\":[\"QATAR x ECUADOR\",\"ENGLAND x IRAN\",\"SENEGAL x NETHERLANDS\",\"UNITED STATES x WALES\",\"ARGENTINA x SAUDI ARABIA\",\"DENMARK x TUNISIA\",\"MEXICO x POLAND\",\"FRANCE x AUSTRALIA\",\"MOROCCO x CROATIA\",\"GERMANY x JAPAN\",\"SPAIN x COSTA RICA\",\"BELGIUM x CANADA\",\"SWITZERLAND x CAMEROON\",\"URUGUAY x KOREA REPUBLIC\",\"PORTUGAL x GHANA\",\"BRAZIL x SERBIA\",\"WALES x IRAN\",\"QATAR x SENEGAL\",\"NETHERLANDS x ECUADOR\",\"ENGLAND x UNITED STATES\",\"TUNISIA x AUSTRALIA\",\"POLAND x SAUDI ARABIA\",\"FRANCE x DENMARK\",\"ARGENTINA x MEXICO\",\"JAPAN x COSTA RICA\",\"BELGIUM x MOROCCO\",\"CROATIA x CANADA\",\"SPAIN x GERMANY\",\"CAMEROON x SERBIA\",\"KOREA REPUBLIC x GHANA\",\"BRAZIL x SWITZERLAND\",\"PORTUGAL x URUGUAY\",\"NETHERLANDS x QATAR\",\"ECUADOR x SENEGAL\",\"WALES x ENGLAND\",\"IRAN x UNITED STATES\",\"AUSTRALIA x DENMARK\",\"TUNISIA x FRANCE\",\"POLAND x ARGENTINA\",\"SAUDI ARABIA x MEXICO\",\"CROATIA x BELGIUM\",\"CANADA x MOROCCO\",\"JAPAN x SPAIN\",\"COSTA RICA x GERMANY\",\"GHANA x URUGUAY\",\"KOREA REPUBLIC x PORTUGAL\",\"SERBIA x SWITZERLAND\",\"CAMEROON x BRAZIL\",\"NETHERLANDS x UNITED STATES\",\"ARGENTINA x AUSTRALIA\",\"FRANCE x POLAND\",\"ENGLAND x SENEGAL\",\"JAPAN x CROATIA\",\"BRAZIL x KOREA REPUBLIC\",\"MOROCCO x SPAIN\",\"PORTUGAL x SWITZERLAND\",\"CROATIA x BRAZIL\",\"NETHERLANDS x ARGENTINA\",\"MOROCCO x PORTUGAL\",\"ENGLAND x FRANCE\",\"ARGENTINA x CROATIA\",\"FRANCE x MOROCCO\",\"CROATIA x MOROCCO\",\"ARGENTINA x FRANCE\"],\"xaxis\":\"x\",\"y\":[0,0,0,0,0,0,0,0,0,0,0,0,0,0,0,0,1,0,0,0,0,0,0,0,0,0,0,0,0,0,0,0,0,0,0,0,0,0,0,0,0,0,0,0,0,0,0,1,0,0,0,0,0,0,0,0,0,1,1,0,0,0,0,0],\"yaxis\":\"y\",\"type\":\"bar\"}],                        {\"template\":{\"data\":{\"bar\":[{\"error_x\":{\"color\":\"#2a3f5f\"},\"error_y\":{\"color\":\"#2a3f5f\"},\"marker\":{\"line\":{\"color\":\"#E5ECF6\",\"width\":0.5},\"pattern\":{\"fillmode\":\"overlay\",\"size\":10,\"solidity\":0.2}},\"type\":\"bar\"}],\"barpolar\":[{\"marker\":{\"line\":{\"color\":\"#E5ECF6\",\"width\":0.5},\"pattern\":{\"fillmode\":\"overlay\",\"size\":10,\"solidity\":0.2}},\"type\":\"barpolar\"}],\"carpet\":[{\"aaxis\":{\"endlinecolor\":\"#2a3f5f\",\"gridcolor\":\"white\",\"linecolor\":\"white\",\"minorgridcolor\":\"white\",\"startlinecolor\":\"#2a3f5f\"},\"baxis\":{\"endlinecolor\":\"#2a3f5f\",\"gridcolor\":\"white\",\"linecolor\":\"white\",\"minorgridcolor\":\"white\",\"startlinecolor\":\"#2a3f5f\"},\"type\":\"carpet\"}],\"choropleth\":[{\"colorbar\":{\"outlinewidth\":0,\"ticks\":\"\"},\"type\":\"choropleth\"}],\"contour\":[{\"colorbar\":{\"outlinewidth\":0,\"ticks\":\"\"},\"colorscale\":[[0.0,\"#0d0887\"],[0.1111111111111111,\"#46039f\"],[0.2222222222222222,\"#7201a8\"],[0.3333333333333333,\"#9c179e\"],[0.4444444444444444,\"#bd3786\"],[0.5555555555555556,\"#d8576b\"],[0.6666666666666666,\"#ed7953\"],[0.7777777777777778,\"#fb9f3a\"],[0.8888888888888888,\"#fdca26\"],[1.0,\"#f0f921\"]],\"type\":\"contour\"}],\"contourcarpet\":[{\"colorbar\":{\"outlinewidth\":0,\"ticks\":\"\"},\"type\":\"contourcarpet\"}],\"heatmap\":[{\"colorbar\":{\"outlinewidth\":0,\"ticks\":\"\"},\"colorscale\":[[0.0,\"#0d0887\"],[0.1111111111111111,\"#46039f\"],[0.2222222222222222,\"#7201a8\"],[0.3333333333333333,\"#9c179e\"],[0.4444444444444444,\"#bd3786\"],[0.5555555555555556,\"#d8576b\"],[0.6666666666666666,\"#ed7953\"],[0.7777777777777778,\"#fb9f3a\"],[0.8888888888888888,\"#fdca26\"],[1.0,\"#f0f921\"]],\"type\":\"heatmap\"}],\"heatmapgl\":[{\"colorbar\":{\"outlinewidth\":0,\"ticks\":\"\"},\"colorscale\":[[0.0,\"#0d0887\"],[0.1111111111111111,\"#46039f\"],[0.2222222222222222,\"#7201a8\"],[0.3333333333333333,\"#9c179e\"],[0.4444444444444444,\"#bd3786\"],[0.5555555555555556,\"#d8576b\"],[0.6666666666666666,\"#ed7953\"],[0.7777777777777778,\"#fb9f3a\"],[0.8888888888888888,\"#fdca26\"],[1.0,\"#f0f921\"]],\"type\":\"heatmapgl\"}],\"histogram\":[{\"marker\":{\"pattern\":{\"fillmode\":\"overlay\",\"size\":10,\"solidity\":0.2}},\"type\":\"histogram\"}],\"histogram2d\":[{\"colorbar\":{\"outlinewidth\":0,\"ticks\":\"\"},\"colorscale\":[[0.0,\"#0d0887\"],[0.1111111111111111,\"#46039f\"],[0.2222222222222222,\"#7201a8\"],[0.3333333333333333,\"#9c179e\"],[0.4444444444444444,\"#bd3786\"],[0.5555555555555556,\"#d8576b\"],[0.6666666666666666,\"#ed7953\"],[0.7777777777777778,\"#fb9f3a\"],[0.8888888888888888,\"#fdca26\"],[1.0,\"#f0f921\"]],\"type\":\"histogram2d\"}],\"histogram2dcontour\":[{\"colorbar\":{\"outlinewidth\":0,\"ticks\":\"\"},\"colorscale\":[[0.0,\"#0d0887\"],[0.1111111111111111,\"#46039f\"],[0.2222222222222222,\"#7201a8\"],[0.3333333333333333,\"#9c179e\"],[0.4444444444444444,\"#bd3786\"],[0.5555555555555556,\"#d8576b\"],[0.6666666666666666,\"#ed7953\"],[0.7777777777777778,\"#fb9f3a\"],[0.8888888888888888,\"#fdca26\"],[1.0,\"#f0f921\"]],\"type\":\"histogram2dcontour\"}],\"mesh3d\":[{\"colorbar\":{\"outlinewidth\":0,\"ticks\":\"\"},\"type\":\"mesh3d\"}],\"parcoords\":[{\"line\":{\"colorbar\":{\"outlinewidth\":0,\"ticks\":\"\"}},\"type\":\"parcoords\"}],\"pie\":[{\"automargin\":true,\"type\":\"pie\"}],\"scatter\":[{\"marker\":{\"colorbar\":{\"outlinewidth\":0,\"ticks\":\"\"}},\"type\":\"scatter\"}],\"scatter3d\":[{\"line\":{\"colorbar\":{\"outlinewidth\":0,\"ticks\":\"\"}},\"marker\":{\"colorbar\":{\"outlinewidth\":0,\"ticks\":\"\"}},\"type\":\"scatter3d\"}],\"scattercarpet\":[{\"marker\":{\"colorbar\":{\"outlinewidth\":0,\"ticks\":\"\"}},\"type\":\"scattercarpet\"}],\"scattergeo\":[{\"marker\":{\"colorbar\":{\"outlinewidth\":0,\"ticks\":\"\"}},\"type\":\"scattergeo\"}],\"scattergl\":[{\"marker\":{\"colorbar\":{\"outlinewidth\":0,\"ticks\":\"\"}},\"type\":\"scattergl\"}],\"scattermapbox\":[{\"marker\":{\"colorbar\":{\"outlinewidth\":0,\"ticks\":\"\"}},\"type\":\"scattermapbox\"}],\"scatterpolar\":[{\"marker\":{\"colorbar\":{\"outlinewidth\":0,\"ticks\":\"\"}},\"type\":\"scatterpolar\"}],\"scatterpolargl\":[{\"marker\":{\"colorbar\":{\"outlinewidth\":0,\"ticks\":\"\"}},\"type\":\"scatterpolargl\"}],\"scatterternary\":[{\"marker\":{\"colorbar\":{\"outlinewidth\":0,\"ticks\":\"\"}},\"type\":\"scatterternary\"}],\"surface\":[{\"colorbar\":{\"outlinewidth\":0,\"ticks\":\"\"},\"colorscale\":[[0.0,\"#0d0887\"],[0.1111111111111111,\"#46039f\"],[0.2222222222222222,\"#7201a8\"],[0.3333333333333333,\"#9c179e\"],[0.4444444444444444,\"#bd3786\"],[0.5555555555555556,\"#d8576b\"],[0.6666666666666666,\"#ed7953\"],[0.7777777777777778,\"#fb9f3a\"],[0.8888888888888888,\"#fdca26\"],[1.0,\"#f0f921\"]],\"type\":\"surface\"}],\"table\":[{\"cells\":{\"fill\":{\"color\":\"#EBF0F8\"},\"line\":{\"color\":\"white\"}},\"header\":{\"fill\":{\"color\":\"#C8D4E3\"},\"line\":{\"color\":\"white\"}},\"type\":\"table\"}]},\"layout\":{\"annotationdefaults\":{\"arrowcolor\":\"#2a3f5f\",\"arrowhead\":0,\"arrowwidth\":1},\"autotypenumbers\":\"strict\",\"coloraxis\":{\"colorbar\":{\"outlinewidth\":0,\"ticks\":\"\"}},\"colorscale\":{\"diverging\":[[0,\"#8e0152\"],[0.1,\"#c51b7d\"],[0.2,\"#de77ae\"],[0.3,\"#f1b6da\"],[0.4,\"#fde0ef\"],[0.5,\"#f7f7f7\"],[0.6,\"#e6f5d0\"],[0.7,\"#b8e186\"],[0.8,\"#7fbc41\"],[0.9,\"#4d9221\"],[1,\"#276419\"]],\"sequential\":[[0.0,\"#0d0887\"],[0.1111111111111111,\"#46039f\"],[0.2222222222222222,\"#7201a8\"],[0.3333333333333333,\"#9c179e\"],[0.4444444444444444,\"#bd3786\"],[0.5555555555555556,\"#d8576b\"],[0.6666666666666666,\"#ed7953\"],[0.7777777777777778,\"#fb9f3a\"],[0.8888888888888888,\"#fdca26\"],[1.0,\"#f0f921\"]],\"sequentialminus\":[[0.0,\"#0d0887\"],[0.1111111111111111,\"#46039f\"],[0.2222222222222222,\"#7201a8\"],[0.3333333333333333,\"#9c179e\"],[0.4444444444444444,\"#bd3786\"],[0.5555555555555556,\"#d8576b\"],[0.6666666666666666,\"#ed7953\"],[0.7777777777777778,\"#fb9f3a\"],[0.8888888888888888,\"#fdca26\"],[1.0,\"#f0f921\"]]},\"colorway\":[\"#636efa\",\"#EF553B\",\"#00cc96\",\"#ab63fa\",\"#FFA15A\",\"#19d3f3\",\"#FF6692\",\"#B6E880\",\"#FF97FF\",\"#FECB52\"],\"font\":{\"color\":\"#2a3f5f\"},\"geo\":{\"bgcolor\":\"white\",\"lakecolor\":\"white\",\"landcolor\":\"#E5ECF6\",\"showlakes\":true,\"showland\":true,\"subunitcolor\":\"white\"},\"hoverlabel\":{\"align\":\"left\"},\"hovermode\":\"closest\",\"mapbox\":{\"style\":\"light\"},\"paper_bgcolor\":\"white\",\"plot_bgcolor\":\"#E5ECF6\",\"polar\":{\"angularaxis\":{\"gridcolor\":\"white\",\"linecolor\":\"white\",\"ticks\":\"\"},\"bgcolor\":\"#E5ECF6\",\"radialaxis\":{\"gridcolor\":\"white\",\"linecolor\":\"white\",\"ticks\":\"\"}},\"scene\":{\"xaxis\":{\"backgroundcolor\":\"#E5ECF6\",\"gridcolor\":\"white\",\"gridwidth\":2,\"linecolor\":\"white\",\"showbackground\":true,\"ticks\":\"\",\"zerolinecolor\":\"white\"},\"yaxis\":{\"backgroundcolor\":\"#E5ECF6\",\"gridcolor\":\"white\",\"gridwidth\":2,\"linecolor\":\"white\",\"showbackground\":true,\"ticks\":\"\",\"zerolinecolor\":\"white\"},\"zaxis\":{\"backgroundcolor\":\"#E5ECF6\",\"gridcolor\":\"white\",\"gridwidth\":2,\"linecolor\":\"white\",\"showbackground\":true,\"ticks\":\"\",\"zerolinecolor\":\"white\"}},\"shapedefaults\":{\"line\":{\"color\":\"#2a3f5f\"}},\"ternary\":{\"aaxis\":{\"gridcolor\":\"white\",\"linecolor\":\"white\",\"ticks\":\"\"},\"baxis\":{\"gridcolor\":\"white\",\"linecolor\":\"white\",\"ticks\":\"\"},\"bgcolor\":\"#E5ECF6\",\"caxis\":{\"gridcolor\":\"white\",\"linecolor\":\"white\",\"ticks\":\"\"}},\"title\":{\"x\":0.05},\"xaxis\":{\"automargin\":true,\"gridcolor\":\"white\",\"linecolor\":\"white\",\"ticks\":\"\",\"title\":{\"standoff\":15},\"zerolinecolor\":\"white\",\"zerolinewidth\":2},\"yaxis\":{\"automargin\":true,\"gridcolor\":\"white\",\"linecolor\":\"white\",\"ticks\":\"\",\"title\":{\"standoff\":15},\"zerolinecolor\":\"white\",\"zerolinewidth\":2}}},\"xaxis\":{\"anchor\":\"y\",\"domain\":[0.0,1.0],\"title\":{\"text\":\"Partidas\"}},\"yaxis\":{\"anchor\":\"x\",\"domain\":[0.0,1.0],\"title\":{\"text\":\"value\"}},\"legend\":{\"title\":{\"text\":\"\"},\"tracegroupgap\":0},\"title\":{\"text\":\"Total de Cart\\u00f5es Amarelos e Total de Cart\\u00f5es vermelhos.\"},\"barmode\":\"relative\"},                        {\"responsive\": true}                    ).then(function(){\n",
              "                            \n",
              "var gd = document.getElementById('96f6a010-17a8-4489-8e5e-1a56fc4c5812');\n",
              "var x = new MutationObserver(function (mutations, observer) {{\n",
              "        var display = window.getComputedStyle(gd).display;\n",
              "        if (!display || display === 'none') {{\n",
              "            console.log([gd, 'removed!']);\n",
              "            Plotly.purge(gd);\n",
              "            observer.disconnect();\n",
              "        }}\n",
              "}});\n",
              "\n",
              "// Listen for the removal of the full notebook cells\n",
              "var notebookContainer = gd.closest('#notebook-container');\n",
              "if (notebookContainer) {{\n",
              "    x.observe(notebookContainer, {childList: true});\n",
              "}}\n",
              "\n",
              "// Listen for the clearing of the current output cell\n",
              "var outputEl = gd.closest('.output');\n",
              "if (outputEl) {{\n",
              "    x.observe(outputEl, {childList: true});\n",
              "}}\n",
              "\n",
              "                        })                };                            </script>        </div>\n",
              "</body>\n",
              "</html>"
            ]
          },
          "metadata": {}
        }
      ],
      "source": [
        "import numpy as np\n",
        "import pandas as pd\n",
        "import plotly.express as px\n",
        "import plotly.graph_objects as go\n",
        "\n",
        "#leitura do banco de dados em csv\n",
        "df = pd.read_csv(\"https://github.com/Marycota/projeto_apc/raw/main/Fifa_world_cup_matches.csv\")\n",
        "Data  = df.values.tolist()  #variavel para ler o grafico\n",
        "\n",
        "def times():   #variavel para juntar os times e fazer as partidas (time1 x time2)\n",
        "  times1 = []  #variavel para receber os times1 por partidas\n",
        "  times2 = []  #variavel para receber os times2 por partidas\n",
        "  s = []       #variavel para receber as partidas (time1 x time2)\n",
        "\n",
        "  for i in Data:         #for para juntar os times por colunas \n",
        "    times1.append(i[0])  #lista dos times 1\n",
        "  for i in Data:\n",
        "    times2.append(i[1])  #lista dos times 2\n",
        "\n",
        "  for n1, n2 in zip(times1, times2):    #for para juntar as listas de times1 e times2\n",
        "    s.append((str(n1) +' x '+str(n2)))  #adicionando os times e separando por ' X '\n",
        "  return s         \n",
        "\n",
        "\n",
        "def cartao_ca():    #variavel para juntar e somar os cartões amarelos dos times por partida (time1 x time2)\n",
        "  cartao_ca1 = []   #Variavel de cartões amarelos time 1\n",
        "  cartao_ca2 = []   #Variavel de cartões amarelos time 2\n",
        "  sx = []           #variavel para a soma \n",
        "\n",
        "  for i in Data:\n",
        "    cartao_ca1.append(i[56])  #lista de cartões amarelos time 1\n",
        "  for i in Data:\n",
        "    cartao_ca2.append(i[57])  #lista de cartões amarelos time 2\n",
        "  \n",
        "  for x,y in enumerate(cartao_ca1): #Percorre o Array a enumerando suas posições\n",
        "     sx.append(y+cartao_ca2[x])     #somando elemento do array a com o elemento de mesma posição no array cartao_cv2\n",
        "  return sx\n",
        "\n",
        "\n",
        "def cartao_cv():    #variavel para juntar e somar os cartões vermelhos dos times por partida (time1 x time2)\n",
        "  cartao_cv1 = []   #Variavel de cartões vermelhos time 1\n",
        "  cartao_cv2 = []   #Variavel de cartões vermelhos time 2\n",
        "  sy = []           #variavel para a soma\n",
        "\n",
        "  for i in Data:\n",
        "    cartao_cv1.append(i[58])  #lista de cartões vermelhos time 1\n",
        "  for i in Data:\n",
        "    cartao_cv2.append(i[59])  #lista de cartões vermelhos time 2\n",
        "\n",
        "  for x,y in enumerate(cartao_cv1): #Percorre o Array a enumerando suas posições\n",
        "     sy.append(y+cartao_cv2[x])     #somando elemento do array a com o elemento de mesma posição no array cartao_cv2\n",
        "  return sy\n",
        "\n",
        "\n",
        "partidas = times() #variavel para substituir a função no dicionario\n",
        "ca = cartao_ca()   #variavel para substituir a função no dicionario\n",
        "cv = cartao_cv()   #variavel para substituir a função no dicionario\n",
        "legenda_cv_ca = {\"Partidas\":partidas,          #criando a legenda no grafico com as novas variaveis do dicionario\n",
        "                 \"Cartões vermelhos\": cv,      #criando a legenda no grafico com as novas variaveis do dicionario\n",
        "                 \"Cartôes amarelos\": ca        #criando a legenda no grafico com as novas variaveis do dicionario\n",
        "}\n",
        "\n",
        "legenda_completa = pd.DataFrame(legenda_cv_ca) #dicionario para a legenda\n",
        "\n",
        "#grafico:\n",
        "fig = px.bar(legenda_completa, x = 'Partidas', y = ['Cartôes amarelos','Cartões vermelhos'], title = \"Total de Cartões Amarelos e Total de Cartões vermelhos.\", labels = {'x':'Partidas', 'y': 'Total'}, color_discrete_sequence=[\"gold\", \"firebrick\"],)\n",
        "\n",
        "# x = partidas  (def times())\n",
        "# y = total de ca e cv  (def cartao_ca() e def cartao_cv())\n",
        "\n",
        "fig.update_layout(legend_title_text= '') #esconder titulo da legenda\n",
        "fig.show()  #mostrar grafico "
      ]
    },
    {
      "cell_type": "markdown",
      "source": [
        "# O que o texto faz:"
      ],
      "metadata": {
        "id": "vpfb8wfIwISO"
      }
    },
    {
      "cell_type": "markdown",
      "source": [
        "O grafico mostra a quantidade de cartoões amarelos e vermelhos de cada partida.\n",
        "\n",
        "1 - Separa de times1 ('team1') em uma lista de times 1\n",
        "\n",
        "3- Juntar as duas litas "
      ],
      "metadata": {
        "id": "gJPESl9owOuU"
      }
    },
    {
      "cell_type": "markdown",
      "source": [
        "2 - Separa de times1 ('team2') em uma lista de times 2 "
      ],
      "metadata": {
        "id": "wEBB9yChxUb7"
      }
    }
  ]
}
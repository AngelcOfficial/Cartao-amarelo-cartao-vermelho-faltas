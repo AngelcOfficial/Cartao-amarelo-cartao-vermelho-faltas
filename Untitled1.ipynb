{
  "nbformat": 4,
  "nbformat_minor": 0,
  "metadata": {
    "colab": {
      "provenance": [],
      "authorship_tag": "ABX9TyNAAcgilnz95/qxojlyOVZu",
      "include_colab_link": true
    },
    "kernelspec": {
      "name": "python3",
      "display_name": "Python 3"
    },
    "language_info": {
      "name": "python"
    }
  },
  "cells": [
    {
      "cell_type": "markdown",
      "metadata": {
        "id": "view-in-github",
        "colab_type": "text"
      },
      "source": [
        "<a href=\"https://colab.research.google.com/github/AngelcOfficial/Cartao-amarelo-cartao-vermelho-faltas/blob/main/Untitled1.ipynb\" target=\"_parent\"><img src=\"https://colab.research.google.com/assets/colab-badge.svg\" alt=\"Open In Colab\"/></a>"
      ]
    },
    {
      "cell_type": "code",
      "execution_count": 8,
      "metadata": {
        "colab": {
          "base_uri": "https://localhost:8080/",
          "height": 252
        },
        "id": "N6l84ufMNX_J",
        "outputId": "9302dce6-25cc-498b-cb41-31228b6e6e8a"
      },
      "outputs": [
        {
          "output_type": "error",
          "ename": "TypeError",
          "evalue": "ignored",
          "traceback": [
            "\u001b[0;31m---------------------------------------------------------------------------\u001b[0m",
            "\u001b[0;31mTypeError\u001b[0m                                 Traceback (most recent call last)",
            "\u001b[0;32m<ipython-input-8-9bd1d3ccc238>\u001b[0m in \u001b[0;36m<module>\u001b[0;34m\u001b[0m\n\u001b[1;32m     29\u001b[0m def create_chart(\n\u001b[1;32m     30\u001b[0m     \u001b[0mdf\u001b[0m \u001b[0;34m=\u001b[0m \u001b[0mpd\u001b[0m\u001b[0;34m.\u001b[0m\u001b[0mread_csv\u001b[0m\u001b[0;34m(\u001b[0m\u001b[0;34m'https://raw.githubusercontent.com/AngelcOfficial/Cartao-amarelo-cartao-vermelho-faltas/9a2fbadb4c5a64e393b32e046ebd7ab911a263fa/csv'\u001b[0m\u001b[0;34m)\u001b[0m\u001b[0;34m,\u001b[0m\u001b[0;34m\u001b[0m\u001b[0;34m\u001b[0m\u001b[0m\n\u001b[0;32m---> 31\u001b[0;31m     \u001b[0mlabels\u001b[0m\u001b[0;34m:\u001b[0m \u001b[0mdict\u001b[0m\u001b[0;34m[\u001b[0m\u001b[0mstr\u001b[0m\u001b[0;34m,\u001b[0m \u001b[0mstr\u001b[0m\u001b[0;34m]\u001b[0m \u001b[0;34m=\u001b[0m \u001b[0mlabels\u001b[0m\u001b[0;34m,\u001b[0m\u001b[0;34m\u001b[0m\u001b[0;34m\u001b[0m\u001b[0m\n\u001b[0m\u001b[1;32m     32\u001b[0m     \u001b[0mconfig\u001b[0m\u001b[0;34m:\u001b[0m \u001b[0mdict\u001b[0m\u001b[0;34m[\u001b[0m\u001b[0mstr\u001b[0m\u001b[0;34m,\u001b[0m \u001b[0mAny\u001b[0m\u001b[0;34m]\u001b[0m \u001b[0;34m=\u001b[0m \u001b[0mconfig\u001b[0m\u001b[0;34m\u001b[0m\u001b[0;34m\u001b[0m\u001b[0m\n\u001b[1;32m     33\u001b[0m  ) -> Figure:\n",
            "\u001b[0;31mTypeError\u001b[0m: 'type' object is not subscriptable"
          ]
        }
      ],
      "source": [
        "from typing import Any\n",
        "\n",
        "import plotly.express as px\n",
        "from plotly.graph_objects import Figure\n",
        "from pandas import DataFrame\n",
        "import pandas as pd\n",
        "\n",
        "#from data_migrator import df\n",
        "  #não usamos esse tipo para importar o dataset\n",
        "  #usamos df = pd.read_csv\n",
        "#from utils import filter_columns, filter_values\n",
        "  #arrumar o filtro\n",
        "\n",
        "#config = {\"title\": {\"text\": f\"{Time1} contra {Time2}\", \"x\": 0.5}}\n",
        "  #config = {\"title\": {\"text\": f\"{name} contra {name}\", \"x\": 0.5}}\n",
        "\n",
        "names = {\n",
        "    \"team1\":\"time1\",\n",
        "    \"team2\":\"time2\",\n",
        "}\n",
        "config = {\"title\": {\"text\": f\"{names} contra {names}\", \"x\": 0.5}}\n",
        "labels =  {\n",
        "    \"yellow cards team1\": \"cartão amarelo time1\", #rotulos/legenda dos graficos\n",
        "    \"yellow cards team2\": \"cartão amarelo time2\",\n",
        "    \"red cards team1\": \"cartão vermelho time1\",\n",
        "    \"red cards team2\": \"cartão vermelho time2\",\n",
        "    \"fouls against team1\": \"falta contraa time1\", \n",
        "    \"fouls against team2\": \"falta contraa time1\",\n",
        "}\n",
        "\n",
        "def create_chart(\n",
        "    df = pd.read_csv('https://raw.githubusercontent.com/AngelcOfficial/Cartao-amarelo-cartao-vermelho-faltas/9a2fbadb4c5a64e393b32e046ebd7ab911a263fa/csv'),\n",
        "    labels: dict[str, str] = labels,  #arrumar os tipos \n",
        "    config: dict[str, Any] = config   #arrumar os tipos \n",
        " ) -> Figure:\n",
        "    chart = px.pie(\n",
        "        df,\n",
        "        values = \"yellow cards team1\" \"yellow cards team2\" \"red cards team1\" \"red cards team2\" \"fouls agains team1\" \"fouls against team2\",\n",
        "        names = \"Cartões Amarelos, Vermelhos e Faltas\",\n",
        "        labels = labels,\n",
        "    )\n",
        "\n",
        "    chart.update_layout(config)\n",
        "    return chart\n",
        "\n",
        "filtered_columns = filter_columns(df,\"yellow cards team1\" \"yellow cards team2\" \"red cards team1\" \"red cards team2\" \"fouls agains team1\" \"fouls against team2\")\n",
        "filtered_df = filtervalues(filtered_columns, \"team1\", \"team2\", {Time1}, {Time2})\n",
        "chart = create_chart(filtered_df, labels)\n",
        "  #arrumar os filtros "
      ]
    }
  ]
}
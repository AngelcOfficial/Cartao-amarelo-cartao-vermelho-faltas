{
  "nbformat": 4,
  "nbformat_minor": 0,
  "metadata": {
    "colab": {
      "provenance": [],
      "authorship_tag": "ABX9TyPPI7AH81jmrkvNdNqG8uue",
      "include_colab_link": true
    },
    "kernelspec": {
      "name": "python3",
      "display_name": "Python 3"
    },
    "language_info": {
      "name": "python"
    }
  },
  "cells": [
    {
      "cell_type": "markdown",
      "metadata": {
        "id": "view-in-github",
        "colab_type": "text"
      },
      "source": [
        "<a href=\"https://colab.research.google.com/github/AngelcOfficial/Cartao-amarelo-cartao-vermelho-faltas/blob/main/teste.ipynb\" target=\"_parent\"><img src=\"https://colab.research.google.com/assets/colab-badge.svg\" alt=\"Open In Colab\"/></a>"
      ]
    },
    {
      "cell_type": "markdown",
      "source": [
        "# Vazio"
      ],
      "metadata": {
        "id": "ruVrrUAIi4Pb"
      }
    },
    {
      "cell_type": "code",
      "source": [],
      "metadata": {
        "id": "YRZobSgMi47Y"
      },
      "execution_count": null,
      "outputs": []
    }
  ]
}
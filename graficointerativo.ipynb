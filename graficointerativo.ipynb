{
  "nbformat": 4,
  "nbformat_minor": 0,
  "metadata": {
    "colab": {
      "provenance": [],
      "authorship_tag": "ABX9TyNJbAKpCxrBbHo3B9MVnMWu",
      "include_colab_link": true
    },
    "kernelspec": {
      "name": "python3",
      "display_name": "Python 3"
    },
    "language_info": {
      "name": "python"
    }
  },
  "cells": [
    {
      "cell_type": "markdown",
      "metadata": {
        "id": "view-in-github",
        "colab_type": "text"
      },
      "source": [
        "<a href=\"https://colab.research.google.com/github/AngelcOfficial/Cartao-amarelo-cartao-vermelho-faltas/blob/main/graficointerativo.ipynb\" target=\"_parent\"><img src=\"https://colab.research.google.com/assets/colab-badge.svg\" alt=\"Open In Colab\"/></a>"
      ]
    },
    {
      "cell_type": "code",
      "source": [
        "import pandas as pd\n",
        "import plotly.express as px\n",
        "#leitura do banco de dados em csv\n",
        "df = pd.read_csv(\"https://github.com/Marycota/projeto_apc/raw/main/Fifa_world_cup_matches.csv\")\n",
        "Data  = df.values.tolist()  #variavel para ler o grafico"
      ],
      "metadata": {
        "id": "zAJ9oVdD9N37"
      },
      "execution_count": 85,
      "outputs": []
    },
    {
      "cell_type": "code",
      "execution_count": null,
      "metadata": {
        "id": "M6JMFzigESwP"
      },
      "outputs": [],
      "source": [
        "def times(): #função para separar os times em uma lista em ordem alfabetica\n",
        "  times = [] #lista para colocar os times \n",
        "\n",
        "  for i in Data:             #for para juntar os times por colunas \n",
        "    times.append(i[0])       #adicionar lista dos times 1\n",
        "    times.append(i[1])       #adicionar lista dos times 2\n",
        "  lista_times = set(times)   #lista para colocar os times sem repetições, total são 32\n",
        "  return sorted(lista_times) #retorna a lista em ordem alfabetica #a função sorted ordena numeros do menor para o maior e as letras em ordem alfabetica(a-z)\n",
        "\n",
        "def posicao_time(time): #Função para separar todas as posições que o time aparece nas duas colunas\n",
        "  posicao_p1_time = []  #lista para guarda a posição doa coluna 0\n",
        "  posicao_p2_time = []  #lista para guarda a posição doa coluna 1\n",
        "  time1 = [] #lista de times da coluna 0\n",
        "  time2 = [] #lista de times da coluna 0\n",
        "\n",
        "  for i in Data:\n",
        "    time1.append(i[0]) #lista de times coluna 0\n",
        "    time2.append(i[1]) #lista de times coluna 1 \n",
        "  for i in range(len(time1)):  #varrer as posições em que o time se encontra em cada lista\n",
        "    if time1[i] == time:       #adicionar a posição 1 do time em uma lista \n",
        "      posicao_p1_time.append(i)\n",
        "    if time2[i] == time:       #adicionar a posição 2 do time em uma lista \n",
        "      posicao_p2_time.append(i)\n",
        "\n",
        "  posicoes_time = sorted(posicao_p1_time + posicao_p2_time) #lista com as posições do time nas duas colunas em ordem crescente\n",
        "  return posicoes_time\n",
        "\n",
        "def partidas(time):   #variavel para juntar os times e fazer as partidas (time1 x time2)\n",
        "  times1 = []         #variavel para receber os times1 por partidas\n",
        "  times2 = []         #variavel para receber os times2 por partidas\n",
        "  partidas = []       #variavel para receber as partidas (time1 x time2)\n",
        "\n",
        "  posicao_partidas = posicao_time(time)\n",
        "  posicao = []\n",
        "\n",
        "  for i in Data:         #for para juntar os times por colunas \n",
        "    times1.append(i[0])  #lista dos times 1\n",
        "    times2.append(i[1])  #lista dos times 2\n",
        "\n",
        "  for n1, n2 in zip(times1, times2):           #for para juntar as listas de times1 e times2\n",
        "    partidas.append((str(n1) +' x '+str(n2)))  #adicionando os times e separando por ' X '\n",
        "\n",
        "  for i in partidas:              #for para varrer a lista de partidas\n",
        "    for  i in posicao_partidas:   #for para varrer a lista de posições \n",
        "      posicao.append(partidas[i]) #adicionar as posições em que o time aparece nas partidas em uma lista das suas partidas\n",
        "    break                         #parar o for quando a lista de posições acabar\n",
        "  return posicao                  #retorna as partidas do time\n",
        "\n",
        "def cartao_amarelo(time):    #variavel para juntar e somar os cartões amarelos dos times por partida (time1 x time2)\n",
        "  cartao_amarelo1 = []       #Variavel de cartões amarelos time 1\n",
        "  cartao_amarelo2 = []       #Variavel de cartões amarelos time 2\n",
        "  soma_ca = []               #variavel para a soma \n",
        "\n",
        "  posicao_partidas = posicao_time(time)\n",
        "  posicao_ca = []\n",
        "\n",
        "  for i in Data:\n",
        "    cartao_amarelo1.append(i[56])  #lista de cartões amarelos time 1\n",
        "    cartao_amarelo2.append(i[57])  #lista de cartões amarelos time 2\n",
        "  \n",
        "  for x,y in enumerate(cartao_amarelo1):      #Percorre o Array a enumerando suas posições\n",
        "     soma_ca.append(y+cartao_amarelo2[x])     #somando elemento do array a com o elemento de mesma posição no array cartao_amarelo2\n",
        "\n",
        "  for i in soma_ca:                 #for para varrer a lista de soma de soma dos cartões amarelos\n",
        "    for  i in posicao_partidas:     #for para varrer a lista de posições das partidas do time\n",
        "      posicao_ca.append(soma_ca[i]) #adicionar os valores dos cartões amarelos de cada partida do time\n",
        "    break\n",
        "  return soma_ca\n",
        "\n",
        "def cartao_vermelho(time):    #variavel para juntar e somar os cartões vermelhos dos times por partida (time1 x time2)\n",
        "  cartao_vermelho1 = []       #Variavel de cartões vermelhos time 1\n",
        "  cartao_vermelho2 = []       #Variavel de cartões vermelhos time 2\n",
        "  soma_cv = []                #variavel para a soma\n",
        "  \n",
        "  posicao_partidas = posicao_time(time)\n",
        "  posicao_cv = []\n",
        "\n",
        "  for i in Data:\n",
        "    cartao_vermelho1.append(i[58])  #lista de cartões vermelhos time 1\n",
        "    cartao_vermelho2.append(i[59])  #lista de cartões vermelhos time 2\n",
        "\n",
        "  for x,y in enumerate(cartao_vermelho1):      #Percorre o Array a enumerando suas posições\n",
        "     soma_cv.append(y+cartao_vermelho2[x])     #somando elemento do array a com o elemento de mesma posição no array cartao_vermelho2 \n",
        "\n",
        "  for i in soma_cv:                 #for para varrer a lista de soma de soma dos cartões vermelhos\n",
        "    for  i in posicao_partidas:     #for para varrer a lista de posições das partidas do time\n",
        "      posicao_cv.append(soma_cv[i]) #adicionar os valores dos cartões vermelhos de cada partida do time\n",
        "    break \n",
        "  return posicao_cv\n",
        "\n",
        "partidas = partidas() #variavel para substituir a função no dicionario\n",
        "ca = cartao_amarelo()      #variavel para substituir a função no dicionario\n",
        "cv = cartao_vermelho()      #variavel para substituir a função no dicionario\n",
        "legenda_cv_ca = {\"Partidas\":partidas,          #criando a legenda no grafico com as novas variaveis do dicionario\n",
        "                 \"Cartões vermelhos\": cv,      #criando a legenda no grafico com as novas variaveis do dicionario\n",
        "                 \"Cartôes amarelos\": ca        #criando a legenda no grafico com as novas variaveis do dicionario\n",
        "}\n",
        "\n",
        "legenda_completa = pd.DataFrame(legenda_cv_ca) #dicionario para a legenda\n",
        "\n",
        "#grafico:\n",
        "fig = px.bar(legenda_completa, x = 'Partidas', y = ['Cartôes amarelos','Cartões vermelhos'], title = \"Total de Cartões Amarelos e Total de Cartões vermelhos.\", labels = {'x':'Partidas', 'y': 'Total'}, color_discrete_sequence=[\"gold\", \"firebrick\"],)\n",
        "\n",
        "# x = partidas  (def times())\n",
        "# y = total de ca e cv  (def cartao_ca() e def cartao_cv())\n",
        "\n",
        "fig.update_layout(legend_title_text= '') #esconder titulo da legenda\n",
        "fig.show()  #mostrar grafico \n",
        "\n",
        "posicao_time('BRAZIL')\n",
        "print(posicao_time)"
      ]
    },
    {
      "cell_type": "markdown",
      "source": [
        "Resultado de cada função individualmente "
      ],
      "metadata": {
        "id": "jUBtkH16BnhI"
      }
    },
    {
      "cell_type": "code",
      "source": [
        "def times(): #função para separar os times em uma lista\n",
        "  times = [] #lista para colocar os times \n",
        "\n",
        "  for i in Data:        #for para juntar os times por colunas \n",
        "    times.append(i[0])  #adicionar lista dos times 1\n",
        "    times.append(i[1])  #adicionar lista dos times 2\n",
        "\n",
        "  lista_times = set(times) #lista para colocar os times sem repetições, total são 32\n",
        "  print(lista_times)\n",
        "  print(len(lista_times))\n",
        "  print(sorted(lista_times))\n",
        "\n",
        "  return sorted(lista_times) #retorna a lista em ordem alfabetica \n",
        "  \n",
        "times()\n",
        "print(times)"
      ],
      "metadata": {
        "id": "_yEUj1RYk2yR",
        "outputId": "440a1d68-fc37-4632-e56d-c39e07cbb2c0",
        "colab": {
          "base_uri": "https://localhost:8080/"
        }
      },
      "execution_count": 93,
      "outputs": [
        {
          "output_type": "stream",
          "name": "stdout",
          "text": [
            "{'SERBIA', 'TUNISIA', 'SWITZERLAND', 'KOREA REPUBLIC', 'AUSTRALIA', 'SENEGAL', 'ENGLAND', 'UNITED STATES', 'NETHERLANDS', 'ARGENTINA', 'GHANA', 'FRANCE', 'POLAND', 'SAUDI ARABIA', 'COSTA RICA', 'PORTUGAL', 'MEXICO', 'URUGUAY', 'CAMEROON', 'SPAIN', 'BELGIUM', 'MOROCCO', 'QATAR', 'CROATIA', 'ECUADOR', 'IRAN', 'JAPAN', 'CANADA', 'BRAZIL', 'DENMARK', 'GERMANY', 'WALES'}\n",
            "32\n",
            "['ARGENTINA', 'AUSTRALIA', 'BELGIUM', 'BRAZIL', 'CAMEROON', 'CANADA', 'COSTA RICA', 'CROATIA', 'DENMARK', 'ECUADOR', 'ENGLAND', 'FRANCE', 'GERMANY', 'GHANA', 'IRAN', 'JAPAN', 'KOREA REPUBLIC', 'MEXICO', 'MOROCCO', 'NETHERLANDS', 'POLAND', 'PORTUGAL', 'QATAR', 'SAUDI ARABIA', 'SENEGAL', 'SERBIA', 'SPAIN', 'SWITZERLAND', 'TUNISIA', 'UNITED STATES', 'URUGUAY', 'WALES']\n",
            "<function times at 0x7f0106279dc0>\n"
          ]
        }
      ]
    },
    {
      "cell_type": "code",
      "source": [
        "def posicao_time(time):     #Função para separar todas as posições que o time aparece nas duas colunas\n",
        "  posicao_p1_time = []      #lista para guarda a posição doa coluna 0\n",
        "  posicao_p2_time = []      #lista para guarda a posição doa coluna 1\n",
        "\n",
        "  time1 = [] #lista de times da coluna 0\n",
        "  time2 = [] #lista de times da coluna 1\n",
        "\n",
        "  for i in Data:\n",
        "    time1.append(i[0]) #lista de times coluna 0\n",
        "    time2.append(i[1]) #lista de times coluna 1 \n",
        "  \n",
        "  for i in range(len(time1)):  #varrer as posições em que o time se encontra em cada lista\n",
        "    if time1[i] == time:       #adicionar a posição 1 do time em uma lista \n",
        "      posicao_p1_time.append(i)\n",
        "    if time2[i] == time:       #adicionar a posição 2 do time em uma lista \n",
        "      posicao_p2_time.append(i)\n",
        "\n",
        "  posicoes_time = sorted(posicao_p1_time + posicao_p2_time) #lista com as posições do time nas duas colunas em ordem crescente\n",
        "  \n",
        "  print(time1)\n",
        "  print(time2)\n",
        "  print(posicoes_time)\n",
        "  return posicoes_time\n",
        "\n",
        "posicao_time('BRAZIL')\n",
        "print(posicao_time)"
      ],
      "metadata": {
        "id": "zSQPBuqC2_F1",
        "outputId": "00a370bc-81fe-4681-e9f5-9cc1be3b708c",
        "colab": {
          "base_uri": "https://localhost:8080/"
        }
      },
      "execution_count": 91,
      "outputs": [
        {
          "output_type": "stream",
          "name": "stdout",
          "text": [
            "['QATAR', 'ENGLAND', 'SENEGAL', 'UNITED STATES', 'ARGENTINA', 'DENMARK', 'MEXICO', 'FRANCE', 'MOROCCO', 'GERMANY', 'SPAIN', 'BELGIUM', 'SWITZERLAND', 'URUGUAY', 'PORTUGAL', 'BRAZIL', 'WALES', 'QATAR', 'NETHERLANDS', 'ENGLAND', 'TUNISIA', 'POLAND', 'FRANCE', 'ARGENTINA', 'JAPAN', 'BELGIUM', 'CROATIA', 'SPAIN', 'CAMEROON', 'KOREA REPUBLIC', 'BRAZIL', 'PORTUGAL', 'NETHERLANDS', 'ECUADOR', 'WALES', 'IRAN', 'AUSTRALIA', 'TUNISIA', 'POLAND', 'SAUDI ARABIA', 'CROATIA', 'CANADA', 'JAPAN', 'COSTA RICA', 'GHANA', 'KOREA REPUBLIC', 'SERBIA', 'CAMEROON', 'NETHERLANDS', 'ARGENTINA', 'FRANCE', 'ENGLAND', 'JAPAN', 'BRAZIL', 'MOROCCO', 'PORTUGAL', 'CROATIA', 'NETHERLANDS', 'MOROCCO', 'ENGLAND', 'ARGENTINA', 'FRANCE', 'CROATIA', 'ARGENTINA']\n",
            "['ECUADOR', 'IRAN', 'NETHERLANDS', 'WALES', 'SAUDI ARABIA', 'TUNISIA', 'POLAND', 'AUSTRALIA', 'CROATIA', 'JAPAN', 'COSTA RICA', 'CANADA', 'CAMEROON', 'KOREA REPUBLIC', 'GHANA', 'SERBIA', 'IRAN', 'SENEGAL', 'ECUADOR', 'UNITED STATES', 'AUSTRALIA', 'SAUDI ARABIA', 'DENMARK', 'MEXICO', 'COSTA RICA', 'MOROCCO', 'CANADA', 'GERMANY', 'SERBIA', 'GHANA', 'SWITZERLAND', 'URUGUAY', 'QATAR', 'SENEGAL', 'ENGLAND', 'UNITED STATES', 'DENMARK', 'FRANCE', 'ARGENTINA', 'MEXICO', 'BELGIUM', 'MOROCCO', 'SPAIN', 'GERMANY', 'URUGUAY', 'PORTUGAL', 'SWITZERLAND', 'BRAZIL', 'UNITED STATES', 'AUSTRALIA', 'POLAND', 'SENEGAL', 'CROATIA', 'KOREA REPUBLIC', 'SPAIN', 'SWITZERLAND', 'BRAZIL', 'ARGENTINA', 'PORTUGAL', 'FRANCE', 'CROATIA', 'MOROCCO', 'MOROCCO', 'FRANCE']\n",
            "[15, 30, 47, 53, 56]\n",
            "<function posicao_time at 0x7f010627be50>\n"
          ]
        }
      ]
    },
    {
      "cell_type": "code",
      "source": [
        "def partidas(time):   #variavel para juntar os times e fazer as partidas (time1 x time2)\n",
        "  times1 = []         #variavel para receber os times1 por partidas\n",
        "  times2 = []         #variavel para receber os times2 por partidas\n",
        "  partidas = []       #variavel para receber as partidas (time1 x time2)\n",
        "\n",
        "  posicao_partidas = posicao_time(time)\n",
        "  posicao = []\n",
        "\n",
        "  for i in Data:         #for para juntar os times por colunas \n",
        "    times1.append(i[0])  #lista dos times 0\n",
        "    times2.append(i[1])  #lista dos times 1\n",
        "\n",
        "  for n1, n2 in zip(times1, times2):           #for para juntar as listas de times1 e times2\n",
        "    partidas.append((str(n1) +' x '+str(n2)))  #adicionando os times e separando por ' X '\n",
        "\n",
        "  for i in partidas:              #for para varrer a lista de partidas\n",
        "    for  i in posicao_partidas:   #for para varrer a lista de posições do time\n",
        "      posicao.append(partidas[i]) #adicionar as posições em que o time aparece nas partidas em uma lista das suas partidas\n",
        "    break\n",
        "  print(partidas) \n",
        "  print(posicao)\n",
        "  print(len(posicao))\n",
        "  return posicao\n",
        "\n",
        "partidas('BRAZIL')\n",
        "print(partidas)"
      ],
      "metadata": {
        "id": "aI0muN-1i0Vm",
        "outputId": "f4bf584d-3f6a-422a-afd4-bc1324a3deef",
        "colab": {
          "base_uri": "https://localhost:8080/"
        }
      },
      "execution_count": 107,
      "outputs": [
        {
          "output_type": "stream",
          "name": "stdout",
          "text": [
            "['QATAR', 'ENGLAND', 'SENEGAL', 'UNITED STATES', 'ARGENTINA', 'DENMARK', 'MEXICO', 'FRANCE', 'MOROCCO', 'GERMANY', 'SPAIN', 'BELGIUM', 'SWITZERLAND', 'URUGUAY', 'PORTUGAL', 'BRAZIL', 'WALES', 'QATAR', 'NETHERLANDS', 'ENGLAND', 'TUNISIA', 'POLAND', 'FRANCE', 'ARGENTINA', 'JAPAN', 'BELGIUM', 'CROATIA', 'SPAIN', 'CAMEROON', 'KOREA REPUBLIC', 'BRAZIL', 'PORTUGAL', 'NETHERLANDS', 'ECUADOR', 'WALES', 'IRAN', 'AUSTRALIA', 'TUNISIA', 'POLAND', 'SAUDI ARABIA', 'CROATIA', 'CANADA', 'JAPAN', 'COSTA RICA', 'GHANA', 'KOREA REPUBLIC', 'SERBIA', 'CAMEROON', 'NETHERLANDS', 'ARGENTINA', 'FRANCE', 'ENGLAND', 'JAPAN', 'BRAZIL', 'MOROCCO', 'PORTUGAL', 'CROATIA', 'NETHERLANDS', 'MOROCCO', 'ENGLAND', 'ARGENTINA', 'FRANCE', 'CROATIA', 'ARGENTINA']\n",
            "['ECUADOR', 'IRAN', 'NETHERLANDS', 'WALES', 'SAUDI ARABIA', 'TUNISIA', 'POLAND', 'AUSTRALIA', 'CROATIA', 'JAPAN', 'COSTA RICA', 'CANADA', 'CAMEROON', 'KOREA REPUBLIC', 'GHANA', 'SERBIA', 'IRAN', 'SENEGAL', 'ECUADOR', 'UNITED STATES', 'AUSTRALIA', 'SAUDI ARABIA', 'DENMARK', 'MEXICO', 'COSTA RICA', 'MOROCCO', 'CANADA', 'GERMANY', 'SERBIA', 'GHANA', 'SWITZERLAND', 'URUGUAY', 'QATAR', 'SENEGAL', 'ENGLAND', 'UNITED STATES', 'DENMARK', 'FRANCE', 'ARGENTINA', 'MEXICO', 'BELGIUM', 'MOROCCO', 'SPAIN', 'GERMANY', 'URUGUAY', 'PORTUGAL', 'SWITZERLAND', 'BRAZIL', 'UNITED STATES', 'AUSTRALIA', 'POLAND', 'SENEGAL', 'CROATIA', 'KOREA REPUBLIC', 'SPAIN', 'SWITZERLAND', 'BRAZIL', 'ARGENTINA', 'PORTUGAL', 'FRANCE', 'CROATIA', 'MOROCCO', 'MOROCCO', 'FRANCE']\n",
            "[15, 30, 47, 53, 56]\n",
            "['QATAR x ECUADOR', 'ENGLAND x IRAN', 'SENEGAL x NETHERLANDS', 'UNITED STATES x WALES', 'ARGENTINA x SAUDI ARABIA', 'DENMARK x TUNISIA', 'MEXICO x POLAND', 'FRANCE x AUSTRALIA', 'MOROCCO x CROATIA', 'GERMANY x JAPAN', 'SPAIN x COSTA RICA', 'BELGIUM x CANADA', 'SWITZERLAND x CAMEROON', 'URUGUAY x KOREA REPUBLIC', 'PORTUGAL x GHANA', 'BRAZIL x SERBIA', 'WALES x IRAN', 'QATAR x SENEGAL', 'NETHERLANDS x ECUADOR', 'ENGLAND x UNITED STATES', 'TUNISIA x AUSTRALIA', 'POLAND x SAUDI ARABIA', 'FRANCE x DENMARK', 'ARGENTINA x MEXICO', 'JAPAN x COSTA RICA', 'BELGIUM x MOROCCO', 'CROATIA x CANADA', 'SPAIN x GERMANY', 'CAMEROON x SERBIA', 'KOREA REPUBLIC x GHANA', 'BRAZIL x SWITZERLAND', 'PORTUGAL x URUGUAY', 'NETHERLANDS x QATAR', 'ECUADOR x SENEGAL', 'WALES x ENGLAND', 'IRAN x UNITED STATES', 'AUSTRALIA x DENMARK', 'TUNISIA x FRANCE', 'POLAND x ARGENTINA', 'SAUDI ARABIA x MEXICO', 'CROATIA x BELGIUM', 'CANADA x MOROCCO', 'JAPAN x SPAIN', 'COSTA RICA x GERMANY', 'GHANA x URUGUAY', 'KOREA REPUBLIC x PORTUGAL', 'SERBIA x SWITZERLAND', 'CAMEROON x BRAZIL', 'NETHERLANDS x UNITED STATES', 'ARGENTINA x AUSTRALIA', 'FRANCE x POLAND', 'ENGLAND x SENEGAL', 'JAPAN x CROATIA', 'BRAZIL x KOREA REPUBLIC', 'MOROCCO x SPAIN', 'PORTUGAL x SWITZERLAND', 'CROATIA x BRAZIL', 'NETHERLANDS x ARGENTINA', 'MOROCCO x PORTUGAL', 'ENGLAND x FRANCE', 'ARGENTINA x CROATIA', 'FRANCE x MOROCCO', 'CROATIA x MOROCCO', 'ARGENTINA x FRANCE']\n",
            "['BRAZIL x SERBIA', 'BRAZIL x SWITZERLAND', 'CAMEROON x BRAZIL', 'BRAZIL x KOREA REPUBLIC', 'CROATIA x BRAZIL']\n",
            "5\n",
            "<function partidas at 0x7f0106279160>\n"
          ]
        }
      ]
    },
    {
      "cell_type": "code",
      "source": [
        "def cartao_amarelo(time):    #variavel para juntar e somar os cartões amarelos dos times por partida (time1 x time2)\n",
        "  cartao_amarelo1 = []       #Variavel de cartões amarelos time 1\n",
        "  cartao_amarelo2 = []       #Variavel de cartões amarelos time 2\n",
        "  soma_ca = []               #variavel para a soma \n",
        "\n",
        "  posicao_partidas = posicao_time(time)\n",
        "  posicao_ca = []\n",
        "\n",
        "  for i in Data:\n",
        "    cartao_amarelo1.append(i[56])  #lista de cartões amarelos time 1\n",
        "    cartao_amarelo2.append(i[57])  #lista de cartões amarelos time 2\n",
        "  \n",
        "  for x,y in enumerate(cartao_amarelo1):      #Percorre o Array a enumerando suas posições\n",
        "     soma_ca.append(y+cartao_amarelo2[x])     #somando elemento do array a com o elemento de mesma posição no array cartao_cv2\n",
        "\n",
        "  for i in soma_ca:                 #for para varrer a lista de soma de soma dos cartões amarelos\n",
        "    for  i in posicao_partidas:     #for para varrer a lista de posições das partidas do time\n",
        "      posicao_ca.append(soma_ca[i]) #adicionar os valores dos cartões amarelos de cada partida do time\n",
        "    break \n",
        "\n",
        "  print(cartao_amarelo1)\n",
        "  print(cartao_amarelo2)\n",
        "  print(len(cartao_amarelo1))\n",
        "  print(len(cartao_amarelo2))\n",
        "  print(soma_ca)\n",
        "  print(len(soma_ca))\n",
        "  print(posicao_ca)\n",
        "  print(len(posicao_ca))\n",
        "  return posicao_ca\n",
        "\n",
        "cartao_amarelo('BRAZIL')\n",
        "print(cartao_amarelo)"
      ],
      "metadata": {
        "id": "dz0IxC7L7t5R",
        "outputId": "e91742d0-9bd9-45b1-a4f1-50f9ad38bf92",
        "colab": {
          "base_uri": "https://localhost:8080/"
        }
      },
      "execution_count": 106,
      "outputs": [
        {
          "output_type": "stream",
          "name": "stdout",
          "text": [
            "['QATAR', 'ENGLAND', 'SENEGAL', 'UNITED STATES', 'ARGENTINA', 'DENMARK', 'MEXICO', 'FRANCE', 'MOROCCO', 'GERMANY', 'SPAIN', 'BELGIUM', 'SWITZERLAND', 'URUGUAY', 'PORTUGAL', 'BRAZIL', 'WALES', 'QATAR', 'NETHERLANDS', 'ENGLAND', 'TUNISIA', 'POLAND', 'FRANCE', 'ARGENTINA', 'JAPAN', 'BELGIUM', 'CROATIA', 'SPAIN', 'CAMEROON', 'KOREA REPUBLIC', 'BRAZIL', 'PORTUGAL', 'NETHERLANDS', 'ECUADOR', 'WALES', 'IRAN', 'AUSTRALIA', 'TUNISIA', 'POLAND', 'SAUDI ARABIA', 'CROATIA', 'CANADA', 'JAPAN', 'COSTA RICA', 'GHANA', 'KOREA REPUBLIC', 'SERBIA', 'CAMEROON', 'NETHERLANDS', 'ARGENTINA', 'FRANCE', 'ENGLAND', 'JAPAN', 'BRAZIL', 'MOROCCO', 'PORTUGAL', 'CROATIA', 'NETHERLANDS', 'MOROCCO', 'ENGLAND', 'ARGENTINA', 'FRANCE', 'CROATIA', 'ARGENTINA']\n",
            "['ECUADOR', 'IRAN', 'NETHERLANDS', 'WALES', 'SAUDI ARABIA', 'TUNISIA', 'POLAND', 'AUSTRALIA', 'CROATIA', 'JAPAN', 'COSTA RICA', 'CANADA', 'CAMEROON', 'KOREA REPUBLIC', 'GHANA', 'SERBIA', 'IRAN', 'SENEGAL', 'ECUADOR', 'UNITED STATES', 'AUSTRALIA', 'SAUDI ARABIA', 'DENMARK', 'MEXICO', 'COSTA RICA', 'MOROCCO', 'CANADA', 'GERMANY', 'SERBIA', 'GHANA', 'SWITZERLAND', 'URUGUAY', 'QATAR', 'SENEGAL', 'ENGLAND', 'UNITED STATES', 'DENMARK', 'FRANCE', 'ARGENTINA', 'MEXICO', 'BELGIUM', 'MOROCCO', 'SPAIN', 'GERMANY', 'URUGUAY', 'PORTUGAL', 'SWITZERLAND', 'BRAZIL', 'UNITED STATES', 'AUSTRALIA', 'POLAND', 'SENEGAL', 'CROATIA', 'KOREA REPUBLIC', 'SPAIN', 'SWITZERLAND', 'BRAZIL', 'ARGENTINA', 'PORTUGAL', 'FRANCE', 'CROATIA', 'MOROCCO', 'MOROCCO', 'FRANCE']\n",
            "[15, 30, 47, 53, 56]\n",
            "[4, 0, 2, 4, 0, 2, 2, 0, 1, 0, 0, 3, 2, 1, 2, 0, 1, 3, 0, 0, 3, 3, 1, 1, 3, 1, 2, 1, 2, 2, 1, 3, 1, 0, 2, 3, 2, 1, 1, 6, 0, 4, 3, 1, 2, 2, 7, 5, 2, 0, 1, 0, 0, 0, 1, 0, 2, 8, 3, 1, 2, 0, 0, 4]\n",
            "[2, 2, 1, 2, 6, 1, 1, 3, 0, 0, 2, 2, 1, 1, 4, 3, 2, 3, 1, 0, 0, 2, 2, 4, 3, 1, 2, 3, 2, 2, 1, 2, 0, 1, 0, 1, 1, 0, 1, 1, 1, 0, 0, 0, 5, 0, 4, 2, 0, 2, 2, 1, 2, 1, 1, 2, 3, 8, 1, 3, 2, 1, 2, 3]\n",
            "64\n",
            "64\n",
            "[6, 2, 3, 6, 6, 3, 3, 3, 1, 0, 2, 5, 3, 2, 6, 3, 3, 6, 1, 0, 3, 5, 3, 5, 6, 2, 4, 4, 4, 4, 2, 5, 1, 1, 2, 4, 3, 1, 2, 7, 1, 4, 3, 1, 7, 2, 11, 7, 2, 2, 3, 1, 2, 1, 2, 2, 5, 16, 4, 4, 4, 1, 2, 7]\n",
            "64\n",
            "[3, 2, 7, 1, 5]\n",
            "5\n",
            "<function cartao_amarelo at 0x7f010627b700>\n"
          ]
        }
      ]
    },
    {
      "cell_type": "code",
      "source": [
        "def cartao_vermelho(time):    #variavel para juntar e somar os cartões vermelhos dos times por partida (time1 x time2)\n",
        "  cartao_vermelho1 = []       #Variavel de cartões vermelhos time 1\n",
        "  cartao_vermelho2 = []       #Variavel de cartões vermelhos time 2\n",
        "  soma_cv = []                #variavel para a soma\n",
        "  \n",
        "  posicao_partidas = posicao_time(time)\n",
        "  posicao_cv = []\n",
        "\n",
        "  for i in Data:\n",
        "    cartao_vermelho1.append(i[58])  #lista de cartões vermelhos time 1\n",
        "    cartao_vermelho2.append(i[59])  #lista de cartões vermelhos time 2\n",
        "\n",
        "  for x,y in enumerate(cartao_vermelho1):      #Percorre o Array a enumerando suas posições\n",
        "     soma_cv.append(y+cartao_vermelho2[x])     #somando elemento do array a com o elemento de mesma posição no array cartao_vermelho2 \n",
        "\n",
        "  for i in soma_cv:                 #for para varrer a lista de soma de soma dos cartões vermelhos\n",
        "    for  i in posicao_partidas:     #for para varrer a lista de posições das partidas do time\n",
        "      posicao_cv.append(soma_cv[i]) #adicionar os valores dos cartões vermelhos de cada partida do time\n",
        "    break \n",
        "\n",
        "  print(cartao_vermelho1)\n",
        "  print(cartao_vermelho2)\n",
        "  print(len(cartao_vermelho1))\n",
        "  print(len(cartao_vermelho2))\n",
        "  print(soma_cv)\n",
        "  print(len(soma_cv))\n",
        "  print(posicao_cv)\n",
        "  print(len(posicao_cv))\n",
        "\n",
        "  return posicao_cv\n",
        "\n",
        "cartao_vermelho('BRAZIL')\n",
        "print(cartao_vermelho)"
      ],
      "metadata": {
        "id": "yBdKHVcv-5AT",
        "outputId": "96683174-7f75-48f3-daec-f99df5c161fd",
        "colab": {
          "base_uri": "https://localhost:8080/"
        }
      },
      "execution_count": 111,
      "outputs": [
        {
          "output_type": "stream",
          "name": "stdout",
          "text": [
            "['QATAR', 'ENGLAND', 'SENEGAL', 'UNITED STATES', 'ARGENTINA', 'DENMARK', 'MEXICO', 'FRANCE', 'MOROCCO', 'GERMANY', 'SPAIN', 'BELGIUM', 'SWITZERLAND', 'URUGUAY', 'PORTUGAL', 'BRAZIL', 'WALES', 'QATAR', 'NETHERLANDS', 'ENGLAND', 'TUNISIA', 'POLAND', 'FRANCE', 'ARGENTINA', 'JAPAN', 'BELGIUM', 'CROATIA', 'SPAIN', 'CAMEROON', 'KOREA REPUBLIC', 'BRAZIL', 'PORTUGAL', 'NETHERLANDS', 'ECUADOR', 'WALES', 'IRAN', 'AUSTRALIA', 'TUNISIA', 'POLAND', 'SAUDI ARABIA', 'CROATIA', 'CANADA', 'JAPAN', 'COSTA RICA', 'GHANA', 'KOREA REPUBLIC', 'SERBIA', 'CAMEROON', 'NETHERLANDS', 'ARGENTINA', 'FRANCE', 'ENGLAND', 'JAPAN', 'BRAZIL', 'MOROCCO', 'PORTUGAL', 'CROATIA', 'NETHERLANDS', 'MOROCCO', 'ENGLAND', 'ARGENTINA', 'FRANCE', 'CROATIA', 'ARGENTINA']\n",
            "['ECUADOR', 'IRAN', 'NETHERLANDS', 'WALES', 'SAUDI ARABIA', 'TUNISIA', 'POLAND', 'AUSTRALIA', 'CROATIA', 'JAPAN', 'COSTA RICA', 'CANADA', 'CAMEROON', 'KOREA REPUBLIC', 'GHANA', 'SERBIA', 'IRAN', 'SENEGAL', 'ECUADOR', 'UNITED STATES', 'AUSTRALIA', 'SAUDI ARABIA', 'DENMARK', 'MEXICO', 'COSTA RICA', 'MOROCCO', 'CANADA', 'GERMANY', 'SERBIA', 'GHANA', 'SWITZERLAND', 'URUGUAY', 'QATAR', 'SENEGAL', 'ENGLAND', 'UNITED STATES', 'DENMARK', 'FRANCE', 'ARGENTINA', 'MEXICO', 'BELGIUM', 'MOROCCO', 'SPAIN', 'GERMANY', 'URUGUAY', 'PORTUGAL', 'SWITZERLAND', 'BRAZIL', 'UNITED STATES', 'AUSTRALIA', 'POLAND', 'SENEGAL', 'CROATIA', 'KOREA REPUBLIC', 'SPAIN', 'SWITZERLAND', 'BRAZIL', 'ARGENTINA', 'PORTUGAL', 'FRANCE', 'CROATIA', 'MOROCCO', 'MOROCCO', 'FRANCE']\n",
            "[15, 30, 47, 53, 56]\n",
            "[0, 0, 0, 0, 0, 0, 0, 0, 0, 0, 0, 0, 0, 0, 0, 0, 1, 0, 0, 0, 0, 0, 0, 0, 0, 0, 0, 0, 0, 0, 0, 0, 0, 0, 0, 0, 0, 0, 0, 0, 0, 0, 0, 0, 0, 0, 0, 1, 0, 0, 0, 0, 0, 0, 0, 0, 0, 1, 1, 0, 0, 0, 0, 0]\n",
            "[0, 0, 0, 0, 0, 0, 0, 0, 0, 0, 0, 0, 0, 0, 0, 0, 0, 0, 0, 0, 0, 0, 0, 0, 0, 0, 0, 0, 0, 0, 0, 0, 0, 0, 0, 0, 0, 0, 0, 0, 0, 0, 0, 0, 0, 0, 0, 0, 0, 0, 0, 0, 0, 0, 0, 0, 0, 0, 0, 0, 0, 0, 0, 0]\n",
            "64\n",
            "64\n",
            "[0, 0, 0, 0, 0, 0, 0, 0, 0, 0, 0, 0, 0, 0, 0, 0, 1, 0, 0, 0, 0, 0, 0, 0, 0, 0, 0, 0, 0, 0, 0, 0, 0, 0, 0, 0, 0, 0, 0, 0, 0, 0, 0, 0, 0, 0, 0, 1, 0, 0, 0, 0, 0, 0, 0, 0, 0, 1, 1, 0, 0, 0, 0, 0]\n",
            "64\n",
            "[0, 0, 1, 0, 0]\n",
            "5\n",
            "<function cartao_vermelho at 0x7f01062b14c0>\n"
          ]
        }
      ]
    },
    {
      "cell_type": "markdown",
      "source": [
        "# Algoritmo:"
      ],
      "metadata": {
        "id": "vpfb8wfIwISO"
      }
    },
    {
      "cell_type": "markdown",
      "source": [
        "O grafico mostra a quantidade de cartoões amarelos e vermelhos de cada partida.\n",
        "\n",
        "1 - Separa os times1 ('team1') em uma lista de times 1 em uma lista\n",
        "\n",
        "2 - Separa os times1 ('team2') em uma lista de times 2 em uma lista\n",
        "\n",
        "3 - Juntar as duas listas dos times como partidas em uma lista\n",
        "\n",
        "4 - Separar as colunas de catões amarelos do time 1 em uma lista\n",
        "\n",
        "5 - Separar as colunas de catões amarelos do time 2 em uma lista\n",
        "\n",
        "6 - Somar as duas colunas em uma só lista de soma de cartões amarelos\n",
        "\n",
        "7 - Separar as colunas de catões vermelhos do time 1 em uma lista\n",
        "\n",
        "8 - Separar as colunas de catões vermelhos do time 2 em uma lista\n",
        "\n",
        "9 - Somar as duas colunas em uma só lista de soma de cartões vermelhos\n",
        "\n",
        "10 - Criar um dicionario para personalizar a legenda:\n",
        "\n",
        "\n",
        "1.   Criar as variaveis para as funções \n",
        "2.   Substituir elas pelas funções\n",
        "3.   Criar um dicionario para a legenda \n",
        "4.   No dicionario declarar a variavel e declarar os nomes das legendas que aparecem no grafico\n",
        "\n",
        "5.   Declarar o novo dicionario\n",
        "\n",
        "11 - Criar uma função para o grafico de barras\n",
        "\n",
        "12 - Na função do grafico declar o novo dicionario \n",
        "\n",
        "13 - Usar as variaveis do dicionario no eixo x e exio y \n",
        "\n",
        "14 - Adicionar titulo\n",
        "\n",
        "15 - Mudar cor das barras\n",
        "\n",
        "16 - Criar uma função de layout da legenda para tirar o titulo da legenda\n",
        "\n",
        "17 - Declarar a função para mostrar o grafico"
      ],
      "metadata": {
        "id": "gJPESl9owOuU"
      }
    }
  ]
}